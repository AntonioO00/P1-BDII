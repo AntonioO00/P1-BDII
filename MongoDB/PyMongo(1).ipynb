{
  "nbformat": 4,
  "nbformat_minor": 0,
  "metadata": {
    "colab": {
      "provenance": []
    },
    "kernelspec": {
      "name": "python3",
      "display_name": "Python 3"
    },
    "language_info": {
      "name": "python"
    }
  },
  "cells": [
    {
      "cell_type": "code",
      "source": [
        "!pip install pymongo[srv,tls]"
      ],
      "metadata": {
        "colab": {
          "base_uri": "https://localhost:8080/"
        },
        "id": "WQ-vvv5BU8cX",
        "outputId": "dd46e9b9-96d6-417f-b931-8f1214445864"
      },
      "execution_count": null,
      "outputs": [
        {
          "output_type": "stream",
          "name": "stdout",
          "text": [
            "Requirement already satisfied: pymongo[srv,tls] in /usr/local/lib/python3.10/dist-packages (4.7.3)\n",
            "Requirement already satisfied: dnspython<3.0.0,>=1.16.0 in /usr/local/lib/python3.10/dist-packages (from pymongo[srv,tls]) (2.6.1)\n"
          ]
        }
      ]
    },
    {
      "cell_type": "code",
      "source": [
        "import pymongo\n",
        "import json\n",
        "import pprint"
      ],
      "metadata": {
        "id": "C4TRZn6RVBgZ"
      },
      "execution_count": null,
      "outputs": []
    },
    {
      "cell_type": "code",
      "source": [],
      "metadata": {
        "id": "MqjnP2KWE2r7"
      },
      "execution_count": null,
      "outputs": []
    },
    {
      "cell_type": "markdown",
      "source": [],
      "metadata": {
        "id": "UQLehu67E3Wj"
      }
    },
    {
      "cell_type": "code",
      "source": [],
      "metadata": {
        "id": "MKtc2T5gE35V"
      },
      "execution_count": null,
      "outputs": []
    },
    {
      "cell_type": "code",
      "source": [
        "mongo_user = \"AntonioO00\"\n",
        "mongo_pw = \"Toninho77\"\n",
        "mongo_host = \"clusterbd2.gnlzt4x.mongodb.net\"\n",
        "mongo_app = \"ClusterBD2\""
      ],
      "metadata": {
        "id": "f0RjLUAOVIYK"
      },
      "execution_count": null,
      "outputs": []
    },
    {
      "cell_type": "code",
      "source": [
        "# estrutura de conexão, não há necessidade de mudar nada por aqui! ;)\n",
        "conexao = pymongo.MongoClient(\"mongodb+srv://\" + mongo_user + \":\" + mongo_pw + \"@\" + mongo_host + \"/?retryWrites=true&w=majority&appName=\" + mongo_app)"
      ],
      "metadata": {
        "id": "iXNeUj2fVMCZ"
      },
      "execution_count": null,
      "outputs": []
    },
    {
      "cell_type": "code",
      "source": [
        "# listando os bancos de dados que estão no seu cluster\n",
        "conexao.list_database_names()"
      ],
      "metadata": {
        "colab": {
          "base_uri": "https://localhost:8080/"
        },
        "id": "nm9KYEAfVQkc",
        "outputId": "9c85d0d4-1978-4a14-8fac-168bcd831002"
      },
      "execution_count": null,
      "outputs": [
        {
          "output_type": "execute_result",
          "data": {
            "text/plain": [
              "['controle_cirurgias_bd', 'sample_mflix', 'trabalho_bd2', 'admin', 'local']"
            ]
          },
          "metadata": {},
          "execution_count": 8
        }
      ]
    },
    {
      "cell_type": "code",
      "source": [
        "# definir uma variável para armazenar a conexão com o banco de dados\n",
        "# a variável conexão guarda o acesso ao banco, deve-se passar por parâmetro o nome do banco de dados a ser acessado e/ou criado\n",
        "db = conexao[\"trabalho_bd2\"]"
      ],
      "metadata": {
        "id": "XWBT1ahBXf68"
      },
      "execution_count": null,
      "outputs": []
    },
    {
      "cell_type": "code",
      "source": [
        "# pode ser útil para obter informações gerais sobre o banco de dados\n",
        "db.command(\"dbstats\")"
      ],
      "metadata": {
        "colab": {
          "base_uri": "https://localhost:8080/"
        },
        "id": "XfHApe-PYRZF",
        "outputId": "c5bac798-ada8-4916-d7e3-f251a00214a3"
      },
      "execution_count": null,
      "outputs": [
        {
          "output_type": "execute_result",
          "data": {
            "text/plain": [
              "{'db': 'trabalho_bd2',\n",
              " 'collections': 7,\n",
              " 'views': 0,\n",
              " 'objects': 0,\n",
              " 'avgObjSize': 0.0,\n",
              " 'dataSize': 0,\n",
              " 'storageSize': 28672,\n",
              " 'totalFreeStorageSize': 0,\n",
              " 'numExtents': 0,\n",
              " 'indexes': 7,\n",
              " 'indexSize': 28672,\n",
              " 'indexFreeStorageSize': 0,\n",
              " 'fileSize': 0,\n",
              " 'nsSizeMB': 0,\n",
              " 'ok': 1}"
            ]
          },
          "metadata": {},
          "execution_count": 10
        }
      ]
    },
    {
      "cell_type": "code",
      "source": [
        "# lista todas as coleções existentes no banco de dados selecionado\n",
        "db.list_collection_names()"
      ],
      "metadata": {
        "colab": {
          "base_uri": "https://localhost:8080/"
        },
        "id": "KRUcPvQ4Y4I1",
        "outputId": "a4762d1c-e913-4b8b-d806-f128fc07c08e"
      },
      "execution_count": null,
      "outputs": [
        {
          "output_type": "execute_result",
          "data": {
            "text/plain": [
              "['enderecos',\n",
              " 'clientes',\n",
              " 'avaliacoes',\n",
              " 'pedidos',\n",
              " 'itens_pedido',\n",
              " 'produtos',\n",
              " 'transportadoras']"
            ]
          },
          "metadata": {},
          "execution_count": 11
        }
      ]
    },
    {
      "cell_type": "code",
      "source": [
        "{\n",
        "  \"$jsonSchema\": {\n",
        "    \"bsonType\": \"object\",\n",
        "    \"required\": [\"_id\", \"nome\", \"cpf\", \"email\", \"senha\"],\n",
        "    \"properties\": {\n",
        "      \"_id\": {\n",
        "        \"bsonType\": \"string\",\n",
        "        \"description\": \"ID do cliente, obrigatório e deve ser uma string\"\n",
        "      },\n",
        "      \"nome\": {\n",
        "        \"bsonType\": \"string\",\n",
        "        \"description\": \"Nome do cliente, obrigatório e deve ser uma string\"\n",
        "      },\n",
        "      \"cpf\": {\n",
        "        \"bsonType\": \"string\",\n",
        "        \"pattern\": \"^[0-9]{11}$\",\n",
        "        \"description\": \"CPF do cliente, obrigatório e deve ser uma string de 11 dígitos\"\n",
        "      },\n",
        "      \"email\": {\n",
        "        \"bsonType\": \"string\",\n",
        "        \"description\": \"Email do cliente, obrigatório e deve ser uma string\"\n",
        "      },\n",
        "      \"senha\": {\n",
        "        \"bsonType\": \"string\",\n",
        "        \"description\": \"Senha do cliente, obrigatório e deve ser uma string\"\n",
        "      },\n",
        "      \"telefone\": {\n",
        "        \"bsonType\": \"string\",\n",
        "        \"description\": \"Telefone do cliente, opcional\"\n",
        "      }\n",
        "    }\n",
        "  }\n",
        "}"
      ],
      "metadata": {
        "colab": {
          "base_uri": "https://localhost:8080/"
        },
        "id": "GA5zi6HeX1IH",
        "outputId": "c2706c3b-d578-4c62-e1df-79f8c2c24046"
      },
      "execution_count": null,
      "outputs": [
        {
          "output_type": "execute_result",
          "data": {
            "text/plain": [
              "{'$jsonSchema': {'bsonType': 'object',\n",
              "  'required': ['_id', 'nome', 'cpf', 'email', 'senha'],\n",
              "  'properties': {'_id': {'bsonType': 'string',\n",
              "    'description': 'ID do cliente, obrigatório e deve ser uma string'},\n",
              "   'nome': {'bsonType': 'string',\n",
              "    'description': 'Nome do cliente, obrigatório e deve ser uma string'},\n",
              "   'cpf': {'bsonType': 'string',\n",
              "    'pattern': '^[0-9]{11}$',\n",
              "    'description': 'CPF do cliente, obrigatório e deve ser uma string de 11 dígitos'},\n",
              "   'email': {'bsonType': 'string',\n",
              "    'description': 'Email do cliente, obrigatório e deve ser uma string'},\n",
              "   'senha': {'bsonType': 'string',\n",
              "    'description': 'Senha do cliente, obrigatório e deve ser uma string'},\n",
              "   'telefone': {'bsonType': 'string',\n",
              "    'description': 'Telefone do cliente, opcional'}}}}"
            ]
          },
          "metadata": {},
          "execution_count": 12
        }
      ]
    },
    {
      "cell_type": "code",
      "source": [
        "{\n",
        "  \"$jsonSchema\": {\n",
        "    \"bsonType\": \"object\",\n",
        "    \"required\": [\"_id\", \"cliente_id\", \"logradouro\", \"cidade\", \"estado\", \"cep\"],\n",
        "    \"properties\": {\n",
        "      \"_id\": {\n",
        "        \"bsonType\": \"string\",\n",
        "        \"description\": \"ID do endereço, obrigatório e deve ser uma string\"\n",
        "      },\n",
        "      \"cliente_id\": {\n",
        "        \"bsonType\": \"string\",\n",
        "        \"description\": \"Referência ao cliente, obrigatório e deve ser uma string\"\n",
        "      },\n",
        "      \"logradouro\": {\n",
        "        \"bsonType\": \"string\",\n",
        "        \"description\": \"Logradouro, obrigatório e deve ser uma string\"\n",
        "      },\n",
        "      \"cidade\": {\n",
        "        \"bsonType\": \"string\",\n",
        "        \"description\": \"Cidade, obrigatório e deve ser uma string\"\n",
        "      },\n",
        "      \"estado\": {\n",
        "        \"bsonType\": \"string\",\n",
        "        \"description\": \"Estado, obrigatório e deve ser uma string\"\n",
        "      },\n",
        "      \"cep\": {\n",
        "        \"bsonType\": \"string\",\n",
        "        \"pattern\": \"^[0-9]{8}$\",\n",
        "        \"description\": \"CEP, obrigatório e deve ser uma string de 8 dígitos\"\n",
        "      }\n",
        "    }\n",
        "  }\n",
        "}\n"
      ],
      "metadata": {
        "colab": {
          "base_uri": "https://localhost:8080/"
        },
        "id": "Nd5V0Bbfc7-W",
        "outputId": "f0c5be23-c5fe-420a-cb5d-aadcaa45f4b2"
      },
      "execution_count": null,
      "outputs": [
        {
          "output_type": "execute_result",
          "data": {
            "text/plain": [
              "{'$jsonSchema': {'bsonType': 'object',\n",
              "  'required': ['_id', 'cliente_id', 'logradouro', 'cidade', 'estado', 'cep'],\n",
              "  'properties': {'_id': {'bsonType': 'string',\n",
              "    'description': 'ID do endereço, obrigatório e deve ser uma string'},\n",
              "   'cliente_id': {'bsonType': 'string',\n",
              "    'description': 'Referência ao cliente, obrigatório e deve ser uma string'},\n",
              "   'logradouro': {'bsonType': 'string',\n",
              "    'description': 'Logradouro, obrigatório e deve ser uma string'},\n",
              "   'cidade': {'bsonType': 'string',\n",
              "    'description': 'Cidade, obrigatório e deve ser uma string'},\n",
              "   'estado': {'bsonType': 'string',\n",
              "    'description': 'Estado, obrigatório e deve ser uma string'},\n",
              "   'cep': {'bsonType': 'string',\n",
              "    'pattern': '^[0-9]{8}$',\n",
              "    'description': 'CEP, obrigatório e deve ser uma string de 8 dígitos'}}}}"
            ]
          },
          "metadata": {},
          "execution_count": 13
        }
      ]
    },
    {
      "cell_type": "code",
      "source": [
        "\n",
        "{\n",
        "  \"$jsonSchema\": {\n",
        "    \"bsonType\": \"object\",\n",
        "    \"required\": [\"_id\", \"nome\", \"descricao\", \"preco\", \"quantidade_estoque\"],\n",
        "    \"properties\": {\n",
        "      \"_id\": {\n",
        "        \"bsonType\": \"string\",\n",
        "        \"description\": \"ID do produto, obrigatório e deve ser uma string\"\n",
        "      },\n",
        "      \"nome\": {\n",
        "        \"bsonType\": \"string\",\n",
        "        \"description\": \"Nome do produto, obrigatório e deve ser uma string\"\n",
        "      },\n",
        "      \"descricao\": {\n",
        "        \"bsonType\": \"string\",\n",
        "        \"description\": \"Descrição do produto, obrigatório e deve ser uma string\"\n",
        "      },\n",
        "      \"preco\": {\n",
        "        \"bsonType\": \"double\",\n",
        "        \"description\": \"Preço do produto, obrigatório e deve ser um número\"\n",
        "      },\n",
        "      \"quantidade_estoque\": {\n",
        "        \"bsonType\": \"int\",\n",
        "        \"description\": \"Quantidade em estoque, obrigatório e deve ser um número inteiro\"\n",
        "      }\n",
        "    }\n",
        "  }\n",
        "}"
      ],
      "metadata": {
        "colab": {
          "base_uri": "https://localhost:8080/"
        },
        "id": "50DuPap7dFVE",
        "outputId": "57002da6-bd18-4a0a-a3f9-daa0eca0a079"
      },
      "execution_count": null,
      "outputs": [
        {
          "output_type": "execute_result",
          "data": {
            "text/plain": [
              "{'$jsonSchema': {'bsonType': 'object',\n",
              "  'required': ['_id', 'nome', 'descricao', 'preco', 'quantidade_estoque'],\n",
              "  'properties': {'_id': {'bsonType': 'string',\n",
              "    'description': 'ID do produto, obrigatório e deve ser uma string'},\n",
              "   'nome': {'bsonType': 'string',\n",
              "    'description': 'Nome do produto, obrigatório e deve ser uma string'},\n",
              "   'descricao': {'bsonType': 'string',\n",
              "    'description': 'Descrição do produto, obrigatório e deve ser uma string'},\n",
              "   'preco': {'bsonType': 'double',\n",
              "    'description': 'Preço do produto, obrigatório e deve ser um número'},\n",
              "   'quantidade_estoque': {'bsonType': 'int',\n",
              "    'description': 'Quantidade em estoque, obrigatório e deve ser um número inteiro'}}}}"
            ]
          },
          "metadata": {},
          "execution_count": 14
        }
      ]
    },
    {
      "cell_type": "code",
      "source": [
        "{\n",
        "  \"$jsonSchema\": {\n",
        "    \"bsonType\": \"object\",\n",
        "    \"required\": [\"_id\", \"cliente_id\", \"data_pedido\", \"endereco_entrega\", \"status\", \"valor_total\"],\n",
        "    \"properties\": {\n",
        "      \"_id\": {\n",
        "        \"bsonType\": \"string\",\n",
        "        \"description\": \"ID do pedido, obrigatório e deve ser uma string\"\n",
        "      },\n",
        "      \"cliente_id\": {\n",
        "        \"bsonType\": \"string\",\n",
        "        \"description\": \"Referência ao cliente, obrigatório e deve ser uma string\"\n",
        "      },\n",
        "      \"data_pedido\": {\n",
        "        \"bsonType\": \"date\",\n",
        "        \"description\": \"Data do pedido, obrigatório e deve ser uma data\"\n",
        "      },\n",
        "      \"endereco_entrega\": {\n",
        "        \"bsonType\": \"object\",\n",
        "        \"required\": [\"logradouro\", \"cidade\", \"estado\", \"cep\"],\n",
        "        \"properties\": {\n",
        "          \"logradouro\": {\n",
        "            \"bsonType\": \"string\",\n",
        "            \"description\": \"Logradouro, obrigatório e deve ser uma string\"\n",
        "          },\n",
        "          \"cidade\": {\n",
        "            \"bsonType\": \"string\",\n",
        "            \"description\": \"Cidade, obrigatório e deve ser uma string\"\n",
        "          },\n",
        "          \"estado\": {\n",
        "            \"bsonType\": \"string\",\n",
        "            \"description\": \"Estado, obrigatório e deve ser uma string\"\n",
        "          },\n",
        "          \"cep\": {\n",
        "            \"bsonType\": \"string\",\n",
        "            \"pattern\": \"^[0-9]{8}$\",\n",
        "            \"description\": \"CEP, obrigatório e deve ser uma string de 8 dígitos\"\n",
        "          }\n",
        "        }\n",
        "      },\n",
        "      \"status\": {\n",
        "        \"bsonType\": \"string\",\n",
        "        \"description\": \"Status do pedido, obrigatório e deve ser uma string\"\n",
        "      },\n",
        "      \"valor_total\": {\n",
        "        \"bsonType\": \"double\",\n",
        "        \"description\": \"Valor total do pedido, obrigatório e deve ser um número\"\n",
        "      }\n",
        "    }\n",
        "  }\n",
        "}"
      ],
      "metadata": {
        "colab": {
          "base_uri": "https://localhost:8080/"
        },
        "id": "cvSQzFyhdLoB",
        "outputId": "c653b22f-faa7-4805-aca0-ea245c752f89"
      },
      "execution_count": null,
      "outputs": [
        {
          "output_type": "execute_result",
          "data": {
            "text/plain": [
              "{'$jsonSchema': {'bsonType': 'object',\n",
              "  'required': ['_id',\n",
              "   'cliente_id',\n",
              "   'data_pedido',\n",
              "   'endereco_entrega',\n",
              "   'status',\n",
              "   'valor_total'],\n",
              "  'properties': {'_id': {'bsonType': 'string',\n",
              "    'description': 'ID do pedido, obrigatório e deve ser uma string'},\n",
              "   'cliente_id': {'bsonType': 'string',\n",
              "    'description': 'Referência ao cliente, obrigatório e deve ser uma string'},\n",
              "   'data_pedido': {'bsonType': 'date',\n",
              "    'description': 'Data do pedido, obrigatório e deve ser uma data'},\n",
              "   'endereco_entrega': {'bsonType': 'object',\n",
              "    'required': ['logradouro', 'cidade', 'estado', 'cep'],\n",
              "    'properties': {'logradouro': {'bsonType': 'string',\n",
              "      'description': 'Logradouro, obrigatório e deve ser uma string'},\n",
              "     'cidade': {'bsonType': 'string',\n",
              "      'description': 'Cidade, obrigatório e deve ser uma string'},\n",
              "     'estado': {'bsonType': 'string',\n",
              "      'description': 'Estado, obrigatório e deve ser uma string'},\n",
              "     'cep': {'bsonType': 'string',\n",
              "      'pattern': '^[0-9]{8}$',\n",
              "      'description': 'CEP, obrigatório e deve ser uma string de 8 dígitos'}}},\n",
              "   'status': {'bsonType': 'string',\n",
              "    'description': 'Status do pedido, obrigatório e deve ser uma string'},\n",
              "   'valor_total': {'bsonType': 'double',\n",
              "    'description': 'Valor total do pedido, obrigatório e deve ser um número'}}}}"
            ]
          },
          "metadata": {},
          "execution_count": 15
        }
      ]
    },
    {
      "cell_type": "code",
      "source": [
        "{\n",
        "  \"$jsonSchema\": {\n",
        "    \"bsonType\": \"object\",\n",
        "    \"required\": [\"_id\", \"pedido_id\", \"produto_id\", \"quantidade\", \"preco_unitario\"],\n",
        "    \"properties\": {\n",
        "      \"_id\": {\n",
        "        \"bsonType\": \"string\",\n",
        "        \"description\": \"ID do item do pedido, obrigatório e deve ser uma string\"\n",
        "      },\n",
        "      \"pedido_id\": {\n",
        "        \"bsonType\": \"string\",\n",
        "        \"description\": \"Referência ao pedido, obrigatório e deve ser uma string\"\n",
        "      },\n",
        "      \"produto_id\": {\n",
        "        \"bsonType\": \"string\",\n",
        "        \"description\": \"Referência ao produto, obrigatório e deve ser uma string\"\n",
        "      },\n",
        "      \"quantidade\": {\n",
        "        \"bsonType\": \"int\",\n",
        "        \"description\": \"Quantidade do produto, obrigatório e deve ser um número inteiro\"\n",
        "      },\n",
        "      \"preco_unitario\": {\n",
        "        \"bsonType\": \"double\",\n",
        "        \"description\": \"Preço unitário do produto, obrigatório e deve ser um número\"\n",
        "      }\n",
        "    }\n",
        "  }\n",
        "}"
      ],
      "metadata": {
        "colab": {
          "base_uri": "https://localhost:8080/"
        },
        "id": "P6TsdzQ5dT5x",
        "outputId": "4c93f263-c9b2-4c1b-a747-ea0668d912f8"
      },
      "execution_count": null,
      "outputs": [
        {
          "output_type": "execute_result",
          "data": {
            "text/plain": [
              "{'$jsonSchema': {'bsonType': 'object',\n",
              "  'required': ['_id',\n",
              "   'pedido_id',\n",
              "   'produto_id',\n",
              "   'quantidade',\n",
              "   'preco_unitario'],\n",
              "  'properties': {'_id': {'bsonType': 'string',\n",
              "    'description': 'ID do item do pedido, obrigatório e deve ser uma string'},\n",
              "   'pedido_id': {'bsonType': 'string',\n",
              "    'description': 'Referência ao pedido, obrigatório e deve ser uma string'},\n",
              "   'produto_id': {'bsonType': 'string',\n",
              "    'description': 'Referência ao produto, obrigatório e deve ser uma string'},\n",
              "   'quantidade': {'bsonType': 'int',\n",
              "    'description': 'Quantidade do produto, obrigatório e deve ser um número inteiro'},\n",
              "   'preco_unitario': {'bsonType': 'double',\n",
              "    'description': 'Preço unitário do produto, obrigatório e deve ser um número'}}}}"
            ]
          },
          "metadata": {},
          "execution_count": 16
        }
      ]
    },
    {
      "cell_type": "code",
      "source": [
        "{\n",
        "  \"$jsonSchema\": {\n",
        "    \"bsonType\": \"object\",\n",
        "    \"required\": [\"_id\", \"produto_id\", \"cliente_id\", \"nota\", \"comentario\"],\n",
        "    \"properties\": {\n",
        "      \"_id\": {\n",
        "        \"bsonType\": \"string\",\n",
        "        \"description\": \"ID da avaliação, obrigatório e deve ser uma string\"\n",
        "      },\n",
        "      \"produto_id\": {\n",
        "        \"bsonType\": \"string\",\n",
        "        \"description\": \"Referência ao produto, obrigatório e deve ser uma string\"\n",
        "      },\n",
        "      \"cliente_id\": {\n",
        "        \"bsonType\": \"string\",\n",
        "        \"description\": \"Referência ao cliente, obrigatório e deve ser uma string\"\n",
        "      },\n",
        "      \"nota\": {\n",
        "        \"bsonType\": \"int\",\n",
        "        \"minimum\": 1,\n",
        "        \"maximum\": 5,\n",
        "        \"description\": \"Nota da avaliação, obrigatório e deve ser um número inteiro entre 1 e 5\"\n",
        "      },\n",
        "      \"comentario\": {\n",
        "        \"bsonType\": \"string\",\n",
        "        \"description\": \"Comentário da avaliação, obrigatório e deve ser uma string\"\n",
        "      }\n",
        "    }\n",
        "  }\n",
        "}"
      ],
      "metadata": {
        "colab": {
          "base_uri": "https://localhost:8080/"
        },
        "id": "MlEGCuZAdYb7",
        "outputId": "3043ea08-7ea7-4b87-b399-3b217362e1c0"
      },
      "execution_count": null,
      "outputs": [
        {
          "output_type": "execute_result",
          "data": {
            "text/plain": [
              "{'$jsonSchema': {'bsonType': 'object',\n",
              "  'required': ['_id', 'produto_id', 'cliente_id', 'nota', 'comentario'],\n",
              "  'properties': {'_id': {'bsonType': 'string',\n",
              "    'description': 'ID da avaliação, obrigatório e deve ser uma string'},\n",
              "   'produto_id': {'bsonType': 'string',\n",
              "    'description': 'Referência ao produto, obrigatório e deve ser uma string'},\n",
              "   'cliente_id': {'bsonType': 'string',\n",
              "    'description': 'Referência ao cliente, obrigatório e deve ser uma string'},\n",
              "   'nota': {'bsonType': 'int',\n",
              "    'minimum': 1,\n",
              "    'maximum': 5,\n",
              "    'description': 'Nota da avaliação, obrigatório e deve ser um número inteiro entre 1 e 5'},\n",
              "   'comentario': {'bsonType': 'string',\n",
              "    'description': 'Comentário da avaliação, obrigatório e deve ser uma string'}}}}"
            ]
          },
          "metadata": {},
          "execution_count": 17
        }
      ]
    },
    {
      "cell_type": "code",
      "source": [
        "{\n",
        "  \"$jsonSchema\": {\n",
        "    \"bsonType\": \"object\",\n",
        "    \"required\": [\"_id\", \"nome\", \"prazo_entrega\", \"taxa_frete\"],\n",
        "    \"properties\": {\n",
        "      \"_id\": {\n",
        "        \"bsonType\": \"string\",\n",
        "        \"description\": \"ID da transportadora, obrigatório e deve ser uma string\"\n",
        "      },\n",
        "      \"nome\": {\n",
        "        \"bsonType\": \"string\",\n",
        "        \"description\": \"Nome da transportadora, obrigatório e deve ser uma string\"\n",
        "      },\n",
        "      \"prazo_entrega\": {\n",
        "        \"bsonType\": \"int\",\n",
        "        \"description\": \"Prazo de entrega em dias, obrigatório e deve ser um número inteiro\"\n",
        "      },\n",
        "      \"taxa_frete\": {\n",
        "        \"bsonType\": \"double\",\n",
        "        \"description\": \"Taxa de frete, obrigatório e deve ser um número\"\n",
        "      }\n",
        "    }\n",
        "  }\n",
        "}"
      ],
      "metadata": {
        "colab": {
          "base_uri": "https://localhost:8080/"
        },
        "id": "UXGFxhyOdcv2",
        "outputId": "ac45e1ca-ec19-4af6-9d00-701c90336672"
      },
      "execution_count": null,
      "outputs": [
        {
          "output_type": "execute_result",
          "data": {
            "text/plain": [
              "{'$jsonSchema': {'bsonType': 'object',\n",
              "  'required': ['_id', 'nome', 'prazo_entrega', 'taxa_frete'],\n",
              "  'properties': {'_id': {'bsonType': 'string',\n",
              "    'description': 'ID da transportadora, obrigatório e deve ser uma string'},\n",
              "   'nome': {'bsonType': 'string',\n",
              "    'description': 'Nome da transportadora, obrigatório e deve ser uma string'},\n",
              "   'prazo_entrega': {'bsonType': 'int',\n",
              "    'description': 'Prazo de entrega em dias, obrigatório e deve ser um número inteiro'},\n",
              "   'taxa_frete': {'bsonType': 'double',\n",
              "    'description': 'Taxa de frete, obrigatório e deve ser um número'}}}}"
            ]
          },
          "metadata": {},
          "execution_count": 18
        }
      ]
    },
    {
      "cell_type": "code",
      "source": [
        "db.create_collection(\"clientes\", validator={\n",
        "    \"$jsonSchema\": {\n",
        "        \"bsonType\": \"object\",\n",
        "        \"required\": [\"_id\", \"nome\", \"cpf\", \"email\", \"senha\"],\n",
        "        \"properties\": {\n",
        "            \"_id\": {\n",
        "                \"bsonType\": \"string\",\n",
        "                \"description\": \"ID do cliente, obrigatório e deve ser uma string\"\n",
        "            },\n",
        "            \"nome\": {\n",
        "                \"bsonType\": \"string\",\n",
        "                \"description\": \"Nome do cliente, obrigatório e deve ser uma string\"\n",
        "            },\n",
        "            \"cpf\": {\n",
        "                \"bsonType\": \"string\",\n",
        "                \"pattern\": \"^[0-9]{11}$\",\n",
        "                \"description\": \"CPF do cliente, obrigatório e deve ser uma string de 11 dígitos\"\n",
        "            },\n",
        "            \"email\": {\n",
        "                \"bsonType\": \"string\",\n",
        "                \"description\": \"Email do cliente, obrigatório e deve ser uma string\"\n",
        "            },\n",
        "            \"senha\": {\n",
        "                \"bsonType\": \"string\",\n",
        "                \"description\": \"Senha do cliente, obrigatório e deve ser uma string\"\n",
        "            },\n",
        "            \"telefone\": {\n",
        "                \"bsonType\": \"string\",\n",
        "                \"description\": \"Telefone do cliente, opcional\"\n",
        "            }\n",
        "        }\n",
        "    }\n",
        "})"
      ],
      "metadata": {
        "colab": {
          "base_uri": "https://localhost:8080/",
          "height": 383
        },
        "id": "4zVs9dL_duXj",
        "outputId": "a8e74d33-a4af-481b-c7b5-26b4d8121cd6"
      },
      "execution_count": null,
      "outputs": [
        {
          "output_type": "error",
          "ename": "CollectionInvalid",
          "evalue": "collection clientes already exists",
          "traceback": [
            "\u001b[0;31m---------------------------------------------------------------------------\u001b[0m",
            "\u001b[0;31mCollectionInvalid\u001b[0m                         Traceback (most recent call last)",
            "\u001b[0;32m<ipython-input-19-56ab372a5447>\u001b[0m in \u001b[0;36m<cell line: 1>\u001b[0;34m()\u001b[0m\n\u001b[0;32m----> 1\u001b[0;31m db.create_collection(\"clientes\", validator={\n\u001b[0m\u001b[1;32m      2\u001b[0m     \"$jsonSchema\": {\n\u001b[1;32m      3\u001b[0m         \u001b[0;34m\"bsonType\"\u001b[0m\u001b[0;34m:\u001b[0m \u001b[0;34m\"object\"\u001b[0m\u001b[0;34m,\u001b[0m\u001b[0;34m\u001b[0m\u001b[0;34m\u001b[0m\u001b[0m\n\u001b[1;32m      4\u001b[0m         \u001b[0;34m\"required\"\u001b[0m\u001b[0;34m:\u001b[0m \u001b[0;34m[\u001b[0m\u001b[0;34m\"_id\"\u001b[0m\u001b[0;34m,\u001b[0m \u001b[0;34m\"nome\"\u001b[0m\u001b[0;34m,\u001b[0m \u001b[0;34m\"cpf\"\u001b[0m\u001b[0;34m,\u001b[0m \u001b[0;34m\"email\"\u001b[0m\u001b[0;34m,\u001b[0m \u001b[0;34m\"senha\"\u001b[0m\u001b[0;34m]\u001b[0m\u001b[0;34m,\u001b[0m\u001b[0;34m\u001b[0m\u001b[0;34m\u001b[0m\u001b[0m\n\u001b[1;32m      5\u001b[0m         \"properties\": {\n",
            "\u001b[0;32m/usr/local/lib/python3.10/dist-packages/pymongo/_csot.py\u001b[0m in \u001b[0;36mcsot_wrapper\u001b[0;34m(self, *args, **kwargs)\u001b[0m\n\u001b[1;32m    106\u001b[0m                 \u001b[0;32mwith\u001b[0m \u001b[0m_TimeoutContext\u001b[0m\u001b[0;34m(\u001b[0m\u001b[0mtimeout\u001b[0m\u001b[0;34m)\u001b[0m\u001b[0;34m:\u001b[0m\u001b[0;34m\u001b[0m\u001b[0;34m\u001b[0m\u001b[0m\n\u001b[1;32m    107\u001b[0m                     \u001b[0;32mreturn\u001b[0m \u001b[0mfunc\u001b[0m\u001b[0;34m(\u001b[0m\u001b[0mself\u001b[0m\u001b[0;34m,\u001b[0m \u001b[0;34m*\u001b[0m\u001b[0margs\u001b[0m\u001b[0;34m,\u001b[0m \u001b[0;34m**\u001b[0m\u001b[0mkwargs\u001b[0m\u001b[0;34m)\u001b[0m\u001b[0;34m\u001b[0m\u001b[0;34m\u001b[0m\u001b[0m\n\u001b[0;32m--> 108\u001b[0;31m         \u001b[0;32mreturn\u001b[0m \u001b[0mfunc\u001b[0m\u001b[0;34m(\u001b[0m\u001b[0mself\u001b[0m\u001b[0;34m,\u001b[0m \u001b[0;34m*\u001b[0m\u001b[0margs\u001b[0m\u001b[0;34m,\u001b[0m \u001b[0;34m**\u001b[0m\u001b[0mkwargs\u001b[0m\u001b[0;34m)\u001b[0m\u001b[0;34m\u001b[0m\u001b[0;34m\u001b[0m\u001b[0m\n\u001b[0m\u001b[1;32m    109\u001b[0m \u001b[0;34m\u001b[0m\u001b[0m\n\u001b[1;32m    110\u001b[0m     \u001b[0;32mreturn\u001b[0m \u001b[0mcast\u001b[0m\u001b[0;34m(\u001b[0m\u001b[0mF\u001b[0m\u001b[0;34m,\u001b[0m \u001b[0mcsot_wrapper\u001b[0m\u001b[0;34m)\u001b[0m\u001b[0;34m\u001b[0m\u001b[0;34m\u001b[0m\u001b[0m\n",
            "\u001b[0;32m/usr/local/lib/python3.10/dist-packages/pymongo/database.py\u001b[0m in \u001b[0;36mcreate_collection\u001b[0;34m(self, name, codec_options, read_preference, write_concern, read_concern, session, check_exists, **kwargs)\u001b[0m\n\u001b[1;32m    459\u001b[0m                 \u001b[0;32mand\u001b[0m \u001b[0mname\u001b[0m \u001b[0;32min\u001b[0m \u001b[0mself\u001b[0m\u001b[0;34m.\u001b[0m\u001b[0mlist_collection_names\u001b[0m\u001b[0;34m(\u001b[0m\u001b[0mfilter\u001b[0m\u001b[0;34m=\u001b[0m\u001b[0;34m{\u001b[0m\u001b[0;34m\"name\"\u001b[0m\u001b[0;34m:\u001b[0m \u001b[0mname\u001b[0m\u001b[0;34m}\u001b[0m\u001b[0;34m,\u001b[0m \u001b[0msession\u001b[0m\u001b[0;34m=\u001b[0m\u001b[0ms\u001b[0m\u001b[0;34m)\u001b[0m\u001b[0;34m\u001b[0m\u001b[0;34m\u001b[0m\u001b[0m\n\u001b[1;32m    460\u001b[0m             ):\n\u001b[0;32m--> 461\u001b[0;31m                 \u001b[0;32mraise\u001b[0m \u001b[0mCollectionInvalid\u001b[0m\u001b[0;34m(\u001b[0m\u001b[0;34m\"collection %s already exists\"\u001b[0m \u001b[0;34m%\u001b[0m \u001b[0mname\u001b[0m\u001b[0;34m)\u001b[0m\u001b[0;34m\u001b[0m\u001b[0;34m\u001b[0m\u001b[0m\n\u001b[0m\u001b[1;32m    462\u001b[0m             return Collection(\n\u001b[1;32m    463\u001b[0m                 \u001b[0mself\u001b[0m\u001b[0;34m,\u001b[0m\u001b[0;34m\u001b[0m\u001b[0;34m\u001b[0m\u001b[0m\n",
            "\u001b[0;31mCollectionInvalid\u001b[0m: collection clientes already exists"
          ]
        }
      ]
    },
    {
      "cell_type": "code",
      "source": [
        "db.create_collection(\"enderecos\", validator={\n",
        "    \"$jsonSchema\": {\n",
        "        \"bsonType\": \"object\",\n",
        "        \"required\": [\"_id\", \"cliente_id\", \"logradouro\", \"cidade\", \"estado\", \"cep\"],\n",
        "        \"properties\": {\n",
        "            \"_id\": {\n",
        "                \"bsonType\": \"string\",\n",
        "                \"description\": \"ID do endereço, obrigatório e deve ser uma string\"\n",
        "            },\n",
        "            \"cliente_id\": {\n",
        "                \"bsonType\": \"string\",\n",
        "                \"description\": \"Referência ao cliente, obrigatório e deve ser uma string\"\n",
        "            },\n",
        "            \"logradouro\": {\n",
        "                \"bsonType\": \"string\",\n",
        "                \"description\": \"Logradouro, obrigatório e deve ser uma string\"\n",
        "            },\n",
        "            \"cidade\": {\n",
        "                \"bsonType\": \"string\",\n",
        "                \"description\": \"Cidade, obrigatório e deve ser uma string\"\n",
        "            },\n",
        "            \"estado\": {\n",
        "                \"bsonType\": \"string\",\n",
        "                \"description\": \"Estado, obrigatório e deve ser uma string\"\n",
        "            },\n",
        "            \"cep\": {\n",
        "                \"bsonType\": \"string\",\n",
        "                \"pattern\": \"^[0-9]{8}$\",\n",
        "                \"description\": \"CEP, obrigatório e deve ser uma string de 8 dígitos\"\n",
        "            }\n",
        "        }\n",
        "    }\n",
        "})\n"
      ],
      "metadata": {
        "colab": {
          "base_uri": "https://localhost:8080/",
          "height": 383
        },
        "id": "iux_B4l2e1OJ",
        "outputId": "2fd49b69-04f8-4a93-a96a-83a6fea3e797"
      },
      "execution_count": null,
      "outputs": [
        {
          "output_type": "error",
          "ename": "CollectionInvalid",
          "evalue": "collection enderecos already exists",
          "traceback": [
            "\u001b[0;31m---------------------------------------------------------------------------\u001b[0m",
            "\u001b[0;31mCollectionInvalid\u001b[0m                         Traceback (most recent call last)",
            "\u001b[0;32m<ipython-input-20-860a233de130>\u001b[0m in \u001b[0;36m<cell line: 1>\u001b[0;34m()\u001b[0m\n\u001b[0;32m----> 1\u001b[0;31m db.create_collection(\"enderecos\", validator={\n\u001b[0m\u001b[1;32m      2\u001b[0m     \"$jsonSchema\": {\n\u001b[1;32m      3\u001b[0m         \u001b[0;34m\"bsonType\"\u001b[0m\u001b[0;34m:\u001b[0m \u001b[0;34m\"object\"\u001b[0m\u001b[0;34m,\u001b[0m\u001b[0;34m\u001b[0m\u001b[0;34m\u001b[0m\u001b[0m\n\u001b[1;32m      4\u001b[0m         \u001b[0;34m\"required\"\u001b[0m\u001b[0;34m:\u001b[0m \u001b[0;34m[\u001b[0m\u001b[0;34m\"_id\"\u001b[0m\u001b[0;34m,\u001b[0m \u001b[0;34m\"cliente_id\"\u001b[0m\u001b[0;34m,\u001b[0m \u001b[0;34m\"logradouro\"\u001b[0m\u001b[0;34m,\u001b[0m \u001b[0;34m\"cidade\"\u001b[0m\u001b[0;34m,\u001b[0m \u001b[0;34m\"estado\"\u001b[0m\u001b[0;34m,\u001b[0m \u001b[0;34m\"cep\"\u001b[0m\u001b[0;34m]\u001b[0m\u001b[0;34m,\u001b[0m\u001b[0;34m\u001b[0m\u001b[0;34m\u001b[0m\u001b[0m\n\u001b[1;32m      5\u001b[0m         \"properties\": {\n",
            "\u001b[0;32m/usr/local/lib/python3.10/dist-packages/pymongo/_csot.py\u001b[0m in \u001b[0;36mcsot_wrapper\u001b[0;34m(self, *args, **kwargs)\u001b[0m\n\u001b[1;32m    106\u001b[0m                 \u001b[0;32mwith\u001b[0m \u001b[0m_TimeoutContext\u001b[0m\u001b[0;34m(\u001b[0m\u001b[0mtimeout\u001b[0m\u001b[0;34m)\u001b[0m\u001b[0;34m:\u001b[0m\u001b[0;34m\u001b[0m\u001b[0;34m\u001b[0m\u001b[0m\n\u001b[1;32m    107\u001b[0m                     \u001b[0;32mreturn\u001b[0m \u001b[0mfunc\u001b[0m\u001b[0;34m(\u001b[0m\u001b[0mself\u001b[0m\u001b[0;34m,\u001b[0m \u001b[0;34m*\u001b[0m\u001b[0margs\u001b[0m\u001b[0;34m,\u001b[0m \u001b[0;34m**\u001b[0m\u001b[0mkwargs\u001b[0m\u001b[0;34m)\u001b[0m\u001b[0;34m\u001b[0m\u001b[0;34m\u001b[0m\u001b[0m\n\u001b[0;32m--> 108\u001b[0;31m         \u001b[0;32mreturn\u001b[0m \u001b[0mfunc\u001b[0m\u001b[0;34m(\u001b[0m\u001b[0mself\u001b[0m\u001b[0;34m,\u001b[0m \u001b[0;34m*\u001b[0m\u001b[0margs\u001b[0m\u001b[0;34m,\u001b[0m \u001b[0;34m**\u001b[0m\u001b[0mkwargs\u001b[0m\u001b[0;34m)\u001b[0m\u001b[0;34m\u001b[0m\u001b[0;34m\u001b[0m\u001b[0m\n\u001b[0m\u001b[1;32m    109\u001b[0m \u001b[0;34m\u001b[0m\u001b[0m\n\u001b[1;32m    110\u001b[0m     \u001b[0;32mreturn\u001b[0m \u001b[0mcast\u001b[0m\u001b[0;34m(\u001b[0m\u001b[0mF\u001b[0m\u001b[0;34m,\u001b[0m \u001b[0mcsot_wrapper\u001b[0m\u001b[0;34m)\u001b[0m\u001b[0;34m\u001b[0m\u001b[0;34m\u001b[0m\u001b[0m\n",
            "\u001b[0;32m/usr/local/lib/python3.10/dist-packages/pymongo/database.py\u001b[0m in \u001b[0;36mcreate_collection\u001b[0;34m(self, name, codec_options, read_preference, write_concern, read_concern, session, check_exists, **kwargs)\u001b[0m\n\u001b[1;32m    459\u001b[0m                 \u001b[0;32mand\u001b[0m \u001b[0mname\u001b[0m \u001b[0;32min\u001b[0m \u001b[0mself\u001b[0m\u001b[0;34m.\u001b[0m\u001b[0mlist_collection_names\u001b[0m\u001b[0;34m(\u001b[0m\u001b[0mfilter\u001b[0m\u001b[0;34m=\u001b[0m\u001b[0;34m{\u001b[0m\u001b[0;34m\"name\"\u001b[0m\u001b[0;34m:\u001b[0m \u001b[0mname\u001b[0m\u001b[0;34m}\u001b[0m\u001b[0;34m,\u001b[0m \u001b[0msession\u001b[0m\u001b[0;34m=\u001b[0m\u001b[0ms\u001b[0m\u001b[0;34m)\u001b[0m\u001b[0;34m\u001b[0m\u001b[0;34m\u001b[0m\u001b[0m\n\u001b[1;32m    460\u001b[0m             ):\n\u001b[0;32m--> 461\u001b[0;31m                 \u001b[0;32mraise\u001b[0m \u001b[0mCollectionInvalid\u001b[0m\u001b[0;34m(\u001b[0m\u001b[0;34m\"collection %s already exists\"\u001b[0m \u001b[0;34m%\u001b[0m \u001b[0mname\u001b[0m\u001b[0;34m)\u001b[0m\u001b[0;34m\u001b[0m\u001b[0;34m\u001b[0m\u001b[0m\n\u001b[0m\u001b[1;32m    462\u001b[0m             return Collection(\n\u001b[1;32m    463\u001b[0m                 \u001b[0mself\u001b[0m\u001b[0;34m,\u001b[0m\u001b[0;34m\u001b[0m\u001b[0;34m\u001b[0m\u001b[0m\n",
            "\u001b[0;31mCollectionInvalid\u001b[0m: collection enderecos already exists"
          ]
        }
      ]
    },
    {
      "cell_type": "code",
      "source": [
        "db.create_collection(\"produtos\", validator={\n",
        "    \"$jsonSchema\": {\n",
        "        \"bsonType\": \"object\",\n",
        "        \"required\": [\"_id\", \"nome\", \"descricao\", \"preco\", \"quantidade_estoque\"],\n",
        "        \"properties\": {\n",
        "            \"_id\": {\n",
        "                \"bsonType\": \"string\",\n",
        "                \"description\": \"ID do produto, obrigatório e deve ser uma string\"\n",
        "            },\n",
        "            \"nome\": {\n",
        "                \"bsonType\": \"string\",\n",
        "                \"description\": \"Nome do produto, obrigatório e deve ser uma string\"\n",
        "            },\n",
        "            \"descricao\": {\n",
        "                \"bsonType\": \"string\",\n",
        "                \"description\": \"Descrição do produto, obrigatório e deve ser uma string\"\n",
        "            },\n",
        "            \"preco\": {\n",
        "                \"bsonType\": \"double\",\n",
        "                \"description\": \"Preço do produto, obrigatório e deve ser um número\"\n",
        "            },\n",
        "            \"quantidade_estoque\": {\n",
        "                \"bsonType\": \"int\",\n",
        "                \"description\": \"Quantidade em estoque, obrigatório e deve ser um número inteiro\"\n",
        "            }\n",
        "        }\n",
        "    }\n",
        "})"
      ],
      "metadata": {
        "colab": {
          "base_uri": "https://localhost:8080/",
          "height": 383
        },
        "id": "q0UGS35GfBJU",
        "outputId": "178dd4b3-f2e8-47ac-bc47-036b3b1381e4"
      },
      "execution_count": null,
      "outputs": [
        {
          "output_type": "error",
          "ename": "CollectionInvalid",
          "evalue": "collection produtos already exists",
          "traceback": [
            "\u001b[0;31m---------------------------------------------------------------------------\u001b[0m",
            "\u001b[0;31mCollectionInvalid\u001b[0m                         Traceback (most recent call last)",
            "\u001b[0;32m<ipython-input-21-a1871b6790db>\u001b[0m in \u001b[0;36m<cell line: 1>\u001b[0;34m()\u001b[0m\n\u001b[0;32m----> 1\u001b[0;31m db.create_collection(\"produtos\", validator={\n\u001b[0m\u001b[1;32m      2\u001b[0m     \"$jsonSchema\": {\n\u001b[1;32m      3\u001b[0m         \u001b[0;34m\"bsonType\"\u001b[0m\u001b[0;34m:\u001b[0m \u001b[0;34m\"object\"\u001b[0m\u001b[0;34m,\u001b[0m\u001b[0;34m\u001b[0m\u001b[0;34m\u001b[0m\u001b[0m\n\u001b[1;32m      4\u001b[0m         \u001b[0;34m\"required\"\u001b[0m\u001b[0;34m:\u001b[0m \u001b[0;34m[\u001b[0m\u001b[0;34m\"_id\"\u001b[0m\u001b[0;34m,\u001b[0m \u001b[0;34m\"nome\"\u001b[0m\u001b[0;34m,\u001b[0m \u001b[0;34m\"descricao\"\u001b[0m\u001b[0;34m,\u001b[0m \u001b[0;34m\"preco\"\u001b[0m\u001b[0;34m,\u001b[0m \u001b[0;34m\"quantidade_estoque\"\u001b[0m\u001b[0;34m]\u001b[0m\u001b[0;34m,\u001b[0m\u001b[0;34m\u001b[0m\u001b[0;34m\u001b[0m\u001b[0m\n\u001b[1;32m      5\u001b[0m         \"properties\": {\n",
            "\u001b[0;32m/usr/local/lib/python3.10/dist-packages/pymongo/_csot.py\u001b[0m in \u001b[0;36mcsot_wrapper\u001b[0;34m(self, *args, **kwargs)\u001b[0m\n\u001b[1;32m    106\u001b[0m                 \u001b[0;32mwith\u001b[0m \u001b[0m_TimeoutContext\u001b[0m\u001b[0;34m(\u001b[0m\u001b[0mtimeout\u001b[0m\u001b[0;34m)\u001b[0m\u001b[0;34m:\u001b[0m\u001b[0;34m\u001b[0m\u001b[0;34m\u001b[0m\u001b[0m\n\u001b[1;32m    107\u001b[0m                     \u001b[0;32mreturn\u001b[0m \u001b[0mfunc\u001b[0m\u001b[0;34m(\u001b[0m\u001b[0mself\u001b[0m\u001b[0;34m,\u001b[0m \u001b[0;34m*\u001b[0m\u001b[0margs\u001b[0m\u001b[0;34m,\u001b[0m \u001b[0;34m**\u001b[0m\u001b[0mkwargs\u001b[0m\u001b[0;34m)\u001b[0m\u001b[0;34m\u001b[0m\u001b[0;34m\u001b[0m\u001b[0m\n\u001b[0;32m--> 108\u001b[0;31m         \u001b[0;32mreturn\u001b[0m \u001b[0mfunc\u001b[0m\u001b[0;34m(\u001b[0m\u001b[0mself\u001b[0m\u001b[0;34m,\u001b[0m \u001b[0;34m*\u001b[0m\u001b[0margs\u001b[0m\u001b[0;34m,\u001b[0m \u001b[0;34m**\u001b[0m\u001b[0mkwargs\u001b[0m\u001b[0;34m)\u001b[0m\u001b[0;34m\u001b[0m\u001b[0;34m\u001b[0m\u001b[0m\n\u001b[0m\u001b[1;32m    109\u001b[0m \u001b[0;34m\u001b[0m\u001b[0m\n\u001b[1;32m    110\u001b[0m     \u001b[0;32mreturn\u001b[0m \u001b[0mcast\u001b[0m\u001b[0;34m(\u001b[0m\u001b[0mF\u001b[0m\u001b[0;34m,\u001b[0m \u001b[0mcsot_wrapper\u001b[0m\u001b[0;34m)\u001b[0m\u001b[0;34m\u001b[0m\u001b[0;34m\u001b[0m\u001b[0m\n",
            "\u001b[0;32m/usr/local/lib/python3.10/dist-packages/pymongo/database.py\u001b[0m in \u001b[0;36mcreate_collection\u001b[0;34m(self, name, codec_options, read_preference, write_concern, read_concern, session, check_exists, **kwargs)\u001b[0m\n\u001b[1;32m    459\u001b[0m                 \u001b[0;32mand\u001b[0m \u001b[0mname\u001b[0m \u001b[0;32min\u001b[0m \u001b[0mself\u001b[0m\u001b[0;34m.\u001b[0m\u001b[0mlist_collection_names\u001b[0m\u001b[0;34m(\u001b[0m\u001b[0mfilter\u001b[0m\u001b[0;34m=\u001b[0m\u001b[0;34m{\u001b[0m\u001b[0;34m\"name\"\u001b[0m\u001b[0;34m:\u001b[0m \u001b[0mname\u001b[0m\u001b[0;34m}\u001b[0m\u001b[0;34m,\u001b[0m \u001b[0msession\u001b[0m\u001b[0;34m=\u001b[0m\u001b[0ms\u001b[0m\u001b[0;34m)\u001b[0m\u001b[0;34m\u001b[0m\u001b[0;34m\u001b[0m\u001b[0m\n\u001b[1;32m    460\u001b[0m             ):\n\u001b[0;32m--> 461\u001b[0;31m                 \u001b[0;32mraise\u001b[0m \u001b[0mCollectionInvalid\u001b[0m\u001b[0;34m(\u001b[0m\u001b[0;34m\"collection %s already exists\"\u001b[0m \u001b[0;34m%\u001b[0m \u001b[0mname\u001b[0m\u001b[0;34m)\u001b[0m\u001b[0;34m\u001b[0m\u001b[0;34m\u001b[0m\u001b[0m\n\u001b[0m\u001b[1;32m    462\u001b[0m             return Collection(\n\u001b[1;32m    463\u001b[0m                 \u001b[0mself\u001b[0m\u001b[0;34m,\u001b[0m\u001b[0;34m\u001b[0m\u001b[0;34m\u001b[0m\u001b[0m\n",
            "\u001b[0;31mCollectionInvalid\u001b[0m: collection produtos already exists"
          ]
        }
      ]
    },
    {
      "cell_type": "code",
      "source": [
        "db.create_collection(\"pedidos\", validator={\n",
        "    \"$jsonSchema\": {\n",
        "        \"bsonType\": \"object\",\n",
        "        \"required\": [\"_id\", \"cliente_id\", \"data_pedido\", \"endereco_entrega\", \"status\", \"valor_total\"],\n",
        "        \"properties\": {\n",
        "            \"_id\": {\n",
        "                \"bsonType\": \"string\",\n",
        "                \"description\": \"ID do pedido, obrigatório e deve ser uma string\"\n",
        "            },\n",
        "            \"cliente_id\": {\n",
        "                \"bsonType\": \"string\",\n",
        "                \"description\": \"Referência ao cliente, obrigatório e deve ser uma string\"\n",
        "            },\n",
        "            \"data_pedido\": {\n",
        "                \"bsonType\": \"date\",\n",
        "                \"description\": \"Data do pedido, obrigatório e deve ser uma data\"\n",
        "            },\n",
        "            \"endereco_entrega\": {\n",
        "                \"bsonType\": \"object\",\n",
        "                \"required\": [\"logradouro\", \"cidade\", \"estado\", \"cep\"],\n",
        "                \"properties\": {\n",
        "                    \"logradouro\": {\n",
        "                        \"bsonType\": \"string\",\n",
        "                        \"description\": \"Logradouro, obrigatório e deve ser uma string\"\n",
        "                    },\n",
        "                    \"cidade\": {\n",
        "                        \"bsonType\": \"string\",\n",
        "                        \"description\": \"Cidade, obrigatório e deve ser uma string\"\n",
        "                    },\n",
        "                    \"estado\": {\n",
        "                        \"bsonType\": \"string\",\n",
        "                        \"description\": \"Estado, obrigatório e deve ser uma string\"\n",
        "                    },\n",
        "                    \"cep\": {\n",
        "                        \"bsonType\": \"string\",\n",
        "                        \"pattern\": \"^[0-9]{8}$\",\n",
        "                        \"description\": \"CEP, obrigatório e deve ser uma string de 8 dígitos\"\n",
        "                    }\n",
        "                }\n",
        "            },\n",
        "            \"status\": {\n",
        "                \"bsonType\": \"string\",\n",
        "                \"description\": \"Status do pedido, obrigatório e deve ser uma string\"\n",
        "            },\n",
        "            \"valor_total\": {\n",
        "                \"bsonType\": \"double\",\n",
        "                \"description\": \"Valor total do pedido, obrigatório e deve ser um número\"\n",
        "            }\n",
        "        }\n",
        "    }\n",
        "})"
      ],
      "metadata": {
        "colab": {
          "base_uri": "https://localhost:8080/",
          "height": 383
        },
        "id": "J16o6lhFfOMS",
        "outputId": "84b69e80-d2e1-4111-d097-6f41d3c2bff8"
      },
      "execution_count": null,
      "outputs": [
        {
          "output_type": "error",
          "ename": "CollectionInvalid",
          "evalue": "collection pedidos already exists",
          "traceback": [
            "\u001b[0;31m---------------------------------------------------------------------------\u001b[0m",
            "\u001b[0;31mCollectionInvalid\u001b[0m                         Traceback (most recent call last)",
            "\u001b[0;32m<ipython-input-22-d9afe32b2fd8>\u001b[0m in \u001b[0;36m<cell line: 1>\u001b[0;34m()\u001b[0m\n\u001b[0;32m----> 1\u001b[0;31m db.create_collection(\"pedidos\", validator={\n\u001b[0m\u001b[1;32m      2\u001b[0m     \"$jsonSchema\": {\n\u001b[1;32m      3\u001b[0m         \u001b[0;34m\"bsonType\"\u001b[0m\u001b[0;34m:\u001b[0m \u001b[0;34m\"object\"\u001b[0m\u001b[0;34m,\u001b[0m\u001b[0;34m\u001b[0m\u001b[0;34m\u001b[0m\u001b[0m\n\u001b[1;32m      4\u001b[0m         \u001b[0;34m\"required\"\u001b[0m\u001b[0;34m:\u001b[0m \u001b[0;34m[\u001b[0m\u001b[0;34m\"_id\"\u001b[0m\u001b[0;34m,\u001b[0m \u001b[0;34m\"cliente_id\"\u001b[0m\u001b[0;34m,\u001b[0m \u001b[0;34m\"data_pedido\"\u001b[0m\u001b[0;34m,\u001b[0m \u001b[0;34m\"endereco_entrega\"\u001b[0m\u001b[0;34m,\u001b[0m \u001b[0;34m\"status\"\u001b[0m\u001b[0;34m,\u001b[0m \u001b[0;34m\"valor_total\"\u001b[0m\u001b[0;34m]\u001b[0m\u001b[0;34m,\u001b[0m\u001b[0;34m\u001b[0m\u001b[0;34m\u001b[0m\u001b[0m\n\u001b[1;32m      5\u001b[0m         \"properties\": {\n",
            "\u001b[0;32m/usr/local/lib/python3.10/dist-packages/pymongo/_csot.py\u001b[0m in \u001b[0;36mcsot_wrapper\u001b[0;34m(self, *args, **kwargs)\u001b[0m\n\u001b[1;32m    106\u001b[0m                 \u001b[0;32mwith\u001b[0m \u001b[0m_TimeoutContext\u001b[0m\u001b[0;34m(\u001b[0m\u001b[0mtimeout\u001b[0m\u001b[0;34m)\u001b[0m\u001b[0;34m:\u001b[0m\u001b[0;34m\u001b[0m\u001b[0;34m\u001b[0m\u001b[0m\n\u001b[1;32m    107\u001b[0m                     \u001b[0;32mreturn\u001b[0m \u001b[0mfunc\u001b[0m\u001b[0;34m(\u001b[0m\u001b[0mself\u001b[0m\u001b[0;34m,\u001b[0m \u001b[0;34m*\u001b[0m\u001b[0margs\u001b[0m\u001b[0;34m,\u001b[0m \u001b[0;34m**\u001b[0m\u001b[0mkwargs\u001b[0m\u001b[0;34m)\u001b[0m\u001b[0;34m\u001b[0m\u001b[0;34m\u001b[0m\u001b[0m\n\u001b[0;32m--> 108\u001b[0;31m         \u001b[0;32mreturn\u001b[0m \u001b[0mfunc\u001b[0m\u001b[0;34m(\u001b[0m\u001b[0mself\u001b[0m\u001b[0;34m,\u001b[0m \u001b[0;34m*\u001b[0m\u001b[0margs\u001b[0m\u001b[0;34m,\u001b[0m \u001b[0;34m**\u001b[0m\u001b[0mkwargs\u001b[0m\u001b[0;34m)\u001b[0m\u001b[0;34m\u001b[0m\u001b[0;34m\u001b[0m\u001b[0m\n\u001b[0m\u001b[1;32m    109\u001b[0m \u001b[0;34m\u001b[0m\u001b[0m\n\u001b[1;32m    110\u001b[0m     \u001b[0;32mreturn\u001b[0m \u001b[0mcast\u001b[0m\u001b[0;34m(\u001b[0m\u001b[0mF\u001b[0m\u001b[0;34m,\u001b[0m \u001b[0mcsot_wrapper\u001b[0m\u001b[0;34m)\u001b[0m\u001b[0;34m\u001b[0m\u001b[0;34m\u001b[0m\u001b[0m\n",
            "\u001b[0;32m/usr/local/lib/python3.10/dist-packages/pymongo/database.py\u001b[0m in \u001b[0;36mcreate_collection\u001b[0;34m(self, name, codec_options, read_preference, write_concern, read_concern, session, check_exists, **kwargs)\u001b[0m\n\u001b[1;32m    459\u001b[0m                 \u001b[0;32mand\u001b[0m \u001b[0mname\u001b[0m \u001b[0;32min\u001b[0m \u001b[0mself\u001b[0m\u001b[0;34m.\u001b[0m\u001b[0mlist_collection_names\u001b[0m\u001b[0;34m(\u001b[0m\u001b[0mfilter\u001b[0m\u001b[0;34m=\u001b[0m\u001b[0;34m{\u001b[0m\u001b[0;34m\"name\"\u001b[0m\u001b[0;34m:\u001b[0m \u001b[0mname\u001b[0m\u001b[0;34m}\u001b[0m\u001b[0;34m,\u001b[0m \u001b[0msession\u001b[0m\u001b[0;34m=\u001b[0m\u001b[0ms\u001b[0m\u001b[0;34m)\u001b[0m\u001b[0;34m\u001b[0m\u001b[0;34m\u001b[0m\u001b[0m\n\u001b[1;32m    460\u001b[0m             ):\n\u001b[0;32m--> 461\u001b[0;31m                 \u001b[0;32mraise\u001b[0m \u001b[0mCollectionInvalid\u001b[0m\u001b[0;34m(\u001b[0m\u001b[0;34m\"collection %s already exists\"\u001b[0m \u001b[0;34m%\u001b[0m \u001b[0mname\u001b[0m\u001b[0;34m)\u001b[0m\u001b[0;34m\u001b[0m\u001b[0;34m\u001b[0m\u001b[0m\n\u001b[0m\u001b[1;32m    462\u001b[0m             return Collection(\n\u001b[1;32m    463\u001b[0m                 \u001b[0mself\u001b[0m\u001b[0;34m,\u001b[0m\u001b[0;34m\u001b[0m\u001b[0;34m\u001b[0m\u001b[0m\n",
            "\u001b[0;31mCollectionInvalid\u001b[0m: collection pedidos already exists"
          ]
        }
      ]
    },
    {
      "cell_type": "code",
      "source": [
        "db.create_collection(\"itens_pedido\", validator={\n",
        "    \"$jsonSchema\": {\n",
        "        \"bsonType\": \"object\",\n",
        "        \"required\": [\"_id\", \"pedido_id\", \"produto_id\", \"quantidade\", \"preco_unitario\"],\n",
        "        \"properties\": {\n",
        "            \"_id\": {\n",
        "                \"bsonType\": \"string\",\n",
        "                \"description\": \"ID do item do pedido, obrigatório e deve ser uma string\"\n",
        "            },\n",
        "            \"pedido_id\": {\n",
        "                \"bsonType\": \"string\",\n",
        "                \"description\": \"Referência ao pedido, obrigatório e deve ser uma string\"\n",
        "            },\n",
        "            \"produto_id\": {\n",
        "                \"bsonType\": \"string\",\n",
        "                \"description\": \"Referência ao produto, obrigatório e deve ser uma string\"\n",
        "            },\n",
        "            \"quantidade\": {\n",
        "                \"bsonType\": \"int\",\n",
        "                \"description\": \"Quantidade do produto, obrigatório e deve ser um número inteiro\"\n",
        "            },\n",
        "            \"preco_unitario\": {\n",
        "                \"bsonType\": \"double\",\n",
        "                \"description\": \"Preço unitário do produto, obrigatório e deve ser um número\"\n",
        "            }\n",
        "        }\n",
        "    }\n",
        "})\n"
      ],
      "metadata": {
        "colab": {
          "base_uri": "https://localhost:8080/",
          "height": 383
        },
        "id": "2tPZ8AXKfVqf",
        "outputId": "d336954b-f855-4b30-86e3-3f785721192a"
      },
      "execution_count": null,
      "outputs": [
        {
          "output_type": "error",
          "ename": "CollectionInvalid",
          "evalue": "collection itens_pedido already exists",
          "traceback": [
            "\u001b[0;31m---------------------------------------------------------------------------\u001b[0m",
            "\u001b[0;31mCollectionInvalid\u001b[0m                         Traceback (most recent call last)",
            "\u001b[0;32m<ipython-input-23-e6fbf0e599f5>\u001b[0m in \u001b[0;36m<cell line: 1>\u001b[0;34m()\u001b[0m\n\u001b[0;32m----> 1\u001b[0;31m db.create_collection(\"itens_pedido\", validator={\n\u001b[0m\u001b[1;32m      2\u001b[0m     \"$jsonSchema\": {\n\u001b[1;32m      3\u001b[0m         \u001b[0;34m\"bsonType\"\u001b[0m\u001b[0;34m:\u001b[0m \u001b[0;34m\"object\"\u001b[0m\u001b[0;34m,\u001b[0m\u001b[0;34m\u001b[0m\u001b[0;34m\u001b[0m\u001b[0m\n\u001b[1;32m      4\u001b[0m         \u001b[0;34m\"required\"\u001b[0m\u001b[0;34m:\u001b[0m \u001b[0;34m[\u001b[0m\u001b[0;34m\"_id\"\u001b[0m\u001b[0;34m,\u001b[0m \u001b[0;34m\"pedido_id\"\u001b[0m\u001b[0;34m,\u001b[0m \u001b[0;34m\"produto_id\"\u001b[0m\u001b[0;34m,\u001b[0m \u001b[0;34m\"quantidade\"\u001b[0m\u001b[0;34m,\u001b[0m \u001b[0;34m\"preco_unitario\"\u001b[0m\u001b[0;34m]\u001b[0m\u001b[0;34m,\u001b[0m\u001b[0;34m\u001b[0m\u001b[0;34m\u001b[0m\u001b[0m\n\u001b[1;32m      5\u001b[0m         \"properties\": {\n",
            "\u001b[0;32m/usr/local/lib/python3.10/dist-packages/pymongo/_csot.py\u001b[0m in \u001b[0;36mcsot_wrapper\u001b[0;34m(self, *args, **kwargs)\u001b[0m\n\u001b[1;32m    106\u001b[0m                 \u001b[0;32mwith\u001b[0m \u001b[0m_TimeoutContext\u001b[0m\u001b[0;34m(\u001b[0m\u001b[0mtimeout\u001b[0m\u001b[0;34m)\u001b[0m\u001b[0;34m:\u001b[0m\u001b[0;34m\u001b[0m\u001b[0;34m\u001b[0m\u001b[0m\n\u001b[1;32m    107\u001b[0m                     \u001b[0;32mreturn\u001b[0m \u001b[0mfunc\u001b[0m\u001b[0;34m(\u001b[0m\u001b[0mself\u001b[0m\u001b[0;34m,\u001b[0m \u001b[0;34m*\u001b[0m\u001b[0margs\u001b[0m\u001b[0;34m,\u001b[0m \u001b[0;34m**\u001b[0m\u001b[0mkwargs\u001b[0m\u001b[0;34m)\u001b[0m\u001b[0;34m\u001b[0m\u001b[0;34m\u001b[0m\u001b[0m\n\u001b[0;32m--> 108\u001b[0;31m         \u001b[0;32mreturn\u001b[0m \u001b[0mfunc\u001b[0m\u001b[0;34m(\u001b[0m\u001b[0mself\u001b[0m\u001b[0;34m,\u001b[0m \u001b[0;34m*\u001b[0m\u001b[0margs\u001b[0m\u001b[0;34m,\u001b[0m \u001b[0;34m**\u001b[0m\u001b[0mkwargs\u001b[0m\u001b[0;34m)\u001b[0m\u001b[0;34m\u001b[0m\u001b[0;34m\u001b[0m\u001b[0m\n\u001b[0m\u001b[1;32m    109\u001b[0m \u001b[0;34m\u001b[0m\u001b[0m\n\u001b[1;32m    110\u001b[0m     \u001b[0;32mreturn\u001b[0m \u001b[0mcast\u001b[0m\u001b[0;34m(\u001b[0m\u001b[0mF\u001b[0m\u001b[0;34m,\u001b[0m \u001b[0mcsot_wrapper\u001b[0m\u001b[0;34m)\u001b[0m\u001b[0;34m\u001b[0m\u001b[0;34m\u001b[0m\u001b[0m\n",
            "\u001b[0;32m/usr/local/lib/python3.10/dist-packages/pymongo/database.py\u001b[0m in \u001b[0;36mcreate_collection\u001b[0;34m(self, name, codec_options, read_preference, write_concern, read_concern, session, check_exists, **kwargs)\u001b[0m\n\u001b[1;32m    459\u001b[0m                 \u001b[0;32mand\u001b[0m \u001b[0mname\u001b[0m \u001b[0;32min\u001b[0m \u001b[0mself\u001b[0m\u001b[0;34m.\u001b[0m\u001b[0mlist_collection_names\u001b[0m\u001b[0;34m(\u001b[0m\u001b[0mfilter\u001b[0m\u001b[0;34m=\u001b[0m\u001b[0;34m{\u001b[0m\u001b[0;34m\"name\"\u001b[0m\u001b[0;34m:\u001b[0m \u001b[0mname\u001b[0m\u001b[0;34m}\u001b[0m\u001b[0;34m,\u001b[0m \u001b[0msession\u001b[0m\u001b[0;34m=\u001b[0m\u001b[0ms\u001b[0m\u001b[0;34m)\u001b[0m\u001b[0;34m\u001b[0m\u001b[0;34m\u001b[0m\u001b[0m\n\u001b[1;32m    460\u001b[0m             ):\n\u001b[0;32m--> 461\u001b[0;31m                 \u001b[0;32mraise\u001b[0m \u001b[0mCollectionInvalid\u001b[0m\u001b[0;34m(\u001b[0m\u001b[0;34m\"collection %s already exists\"\u001b[0m \u001b[0;34m%\u001b[0m \u001b[0mname\u001b[0m\u001b[0;34m)\u001b[0m\u001b[0;34m\u001b[0m\u001b[0;34m\u001b[0m\u001b[0m\n\u001b[0m\u001b[1;32m    462\u001b[0m             return Collection(\n\u001b[1;32m    463\u001b[0m                 \u001b[0mself\u001b[0m\u001b[0;34m,\u001b[0m\u001b[0;34m\u001b[0m\u001b[0;34m\u001b[0m\u001b[0m\n",
            "\u001b[0;31mCollectionInvalid\u001b[0m: collection itens_pedido already exists"
          ]
        }
      ]
    },
    {
      "cell_type": "code",
      "source": [
        "db.create_collection(\"avaliacoes\", validator={\n",
        "    \"$jsonSchema\": {\n",
        "        \"bsonType\": \"object\",\n",
        "        \"required\": [\"_id\", \"produto_id\", \"cliente_id\", \"nota\", \"comentario\"],\n",
        "        \"properties\": {\n",
        "            \"_id\": {\n",
        "                \"bsonType\": \"string\",\n",
        "                \"description\": \"ID da avaliação, obrigatório e deve ser uma string\"\n",
        "            },\n",
        "            \"produto_id\": {\n",
        "                \"bsonType\": \"string\",\n",
        "                \"description\": \"Referência ao produto, obrigatório e deve ser uma string\"\n",
        "            },\n",
        "            \"cliente_id\": {\n",
        "                \"bsonType\": \"string\",\n",
        "                \"description\": \"Referência ao cliente, obrigatório e deve ser uma string\"\n",
        "            },\n",
        "            \"nota\": {\n",
        "                \"bsonType\": \"int\",\n",
        "                \"minimum\": 1,\n",
        "                \"maximum\": 5,\n",
        "                \"description\": \"Nota da avaliação, obrigatório e deve ser um número inteiro entre 1 e 5\"\n",
        "            },\n",
        "            \"comentario\": {\n",
        "                \"bsonType\": \"string\",\n",
        "                \"description\": \"Comentário da avaliação, obrigatório e deve ser uma string\"\n",
        "            }\n",
        "        }\n",
        "    }\n",
        "})\n"
      ],
      "metadata": {
        "colab": {
          "base_uri": "https://localhost:8080/",
          "height": 383
        },
        "id": "hBj4puJlfXKe",
        "outputId": "2a16411e-8934-4617-9952-4c8cfa99e80d"
      },
      "execution_count": null,
      "outputs": [
        {
          "output_type": "error",
          "ename": "CollectionInvalid",
          "evalue": "collection avaliacoes already exists",
          "traceback": [
            "\u001b[0;31m---------------------------------------------------------------------------\u001b[0m",
            "\u001b[0;31mCollectionInvalid\u001b[0m                         Traceback (most recent call last)",
            "\u001b[0;32m<ipython-input-24-13648823c027>\u001b[0m in \u001b[0;36m<cell line: 1>\u001b[0;34m()\u001b[0m\n\u001b[0;32m----> 1\u001b[0;31m db.create_collection(\"avaliacoes\", validator={\n\u001b[0m\u001b[1;32m      2\u001b[0m     \"$jsonSchema\": {\n\u001b[1;32m      3\u001b[0m         \u001b[0;34m\"bsonType\"\u001b[0m\u001b[0;34m:\u001b[0m \u001b[0;34m\"object\"\u001b[0m\u001b[0;34m,\u001b[0m\u001b[0;34m\u001b[0m\u001b[0;34m\u001b[0m\u001b[0m\n\u001b[1;32m      4\u001b[0m         \u001b[0;34m\"required\"\u001b[0m\u001b[0;34m:\u001b[0m \u001b[0;34m[\u001b[0m\u001b[0;34m\"_id\"\u001b[0m\u001b[0;34m,\u001b[0m \u001b[0;34m\"produto_id\"\u001b[0m\u001b[0;34m,\u001b[0m \u001b[0;34m\"cliente_id\"\u001b[0m\u001b[0;34m,\u001b[0m \u001b[0;34m\"nota\"\u001b[0m\u001b[0;34m,\u001b[0m \u001b[0;34m\"comentario\"\u001b[0m\u001b[0;34m]\u001b[0m\u001b[0;34m,\u001b[0m\u001b[0;34m\u001b[0m\u001b[0;34m\u001b[0m\u001b[0m\n\u001b[1;32m      5\u001b[0m         \"properties\": {\n",
            "\u001b[0;32m/usr/local/lib/python3.10/dist-packages/pymongo/_csot.py\u001b[0m in \u001b[0;36mcsot_wrapper\u001b[0;34m(self, *args, **kwargs)\u001b[0m\n\u001b[1;32m    106\u001b[0m                 \u001b[0;32mwith\u001b[0m \u001b[0m_TimeoutContext\u001b[0m\u001b[0;34m(\u001b[0m\u001b[0mtimeout\u001b[0m\u001b[0;34m)\u001b[0m\u001b[0;34m:\u001b[0m\u001b[0;34m\u001b[0m\u001b[0;34m\u001b[0m\u001b[0m\n\u001b[1;32m    107\u001b[0m                     \u001b[0;32mreturn\u001b[0m \u001b[0mfunc\u001b[0m\u001b[0;34m(\u001b[0m\u001b[0mself\u001b[0m\u001b[0;34m,\u001b[0m \u001b[0;34m*\u001b[0m\u001b[0margs\u001b[0m\u001b[0;34m,\u001b[0m \u001b[0;34m**\u001b[0m\u001b[0mkwargs\u001b[0m\u001b[0;34m)\u001b[0m\u001b[0;34m\u001b[0m\u001b[0;34m\u001b[0m\u001b[0m\n\u001b[0;32m--> 108\u001b[0;31m         \u001b[0;32mreturn\u001b[0m \u001b[0mfunc\u001b[0m\u001b[0;34m(\u001b[0m\u001b[0mself\u001b[0m\u001b[0;34m,\u001b[0m \u001b[0;34m*\u001b[0m\u001b[0margs\u001b[0m\u001b[0;34m,\u001b[0m \u001b[0;34m**\u001b[0m\u001b[0mkwargs\u001b[0m\u001b[0;34m)\u001b[0m\u001b[0;34m\u001b[0m\u001b[0;34m\u001b[0m\u001b[0m\n\u001b[0m\u001b[1;32m    109\u001b[0m \u001b[0;34m\u001b[0m\u001b[0m\n\u001b[1;32m    110\u001b[0m     \u001b[0;32mreturn\u001b[0m \u001b[0mcast\u001b[0m\u001b[0;34m(\u001b[0m\u001b[0mF\u001b[0m\u001b[0;34m,\u001b[0m \u001b[0mcsot_wrapper\u001b[0m\u001b[0;34m)\u001b[0m\u001b[0;34m\u001b[0m\u001b[0;34m\u001b[0m\u001b[0m\n",
            "\u001b[0;32m/usr/local/lib/python3.10/dist-packages/pymongo/database.py\u001b[0m in \u001b[0;36mcreate_collection\u001b[0;34m(self, name, codec_options, read_preference, write_concern, read_concern, session, check_exists, **kwargs)\u001b[0m\n\u001b[1;32m    459\u001b[0m                 \u001b[0;32mand\u001b[0m \u001b[0mname\u001b[0m \u001b[0;32min\u001b[0m \u001b[0mself\u001b[0m\u001b[0;34m.\u001b[0m\u001b[0mlist_collection_names\u001b[0m\u001b[0;34m(\u001b[0m\u001b[0mfilter\u001b[0m\u001b[0;34m=\u001b[0m\u001b[0;34m{\u001b[0m\u001b[0;34m\"name\"\u001b[0m\u001b[0;34m:\u001b[0m \u001b[0mname\u001b[0m\u001b[0;34m}\u001b[0m\u001b[0;34m,\u001b[0m \u001b[0msession\u001b[0m\u001b[0;34m=\u001b[0m\u001b[0ms\u001b[0m\u001b[0;34m)\u001b[0m\u001b[0;34m\u001b[0m\u001b[0;34m\u001b[0m\u001b[0m\n\u001b[1;32m    460\u001b[0m             ):\n\u001b[0;32m--> 461\u001b[0;31m                 \u001b[0;32mraise\u001b[0m \u001b[0mCollectionInvalid\u001b[0m\u001b[0;34m(\u001b[0m\u001b[0;34m\"collection %s already exists\"\u001b[0m \u001b[0;34m%\u001b[0m \u001b[0mname\u001b[0m\u001b[0;34m)\u001b[0m\u001b[0;34m\u001b[0m\u001b[0;34m\u001b[0m\u001b[0m\n\u001b[0m\u001b[1;32m    462\u001b[0m             return Collection(\n\u001b[1;32m    463\u001b[0m                 \u001b[0mself\u001b[0m\u001b[0;34m,\u001b[0m\u001b[0;34m\u001b[0m\u001b[0;34m\u001b[0m\u001b[0m\n",
            "\u001b[0;31mCollectionInvalid\u001b[0m: collection avaliacoes already exists"
          ]
        }
      ]
    },
    {
      "cell_type": "code",
      "source": [
        "db.create_collection(\"transportadoras\", validator={\n",
        "    \"$jsonSchema\": {\n",
        "        \"bsonType\": \"object\",\n",
        "        \"required\": [\"_id\", \"nome\", \"prazo_entrega\", \"taxa_frete\"],\n",
        "        \"properties\": {\n",
        "            \"_id\": {\n",
        "                \"bsonType\": \"string\",\n",
        "                \"description\": \"ID da transportadora, obrigatório e deve ser uma string\"\n",
        "            },\n",
        "            \"nome\": {\n",
        "                \"bsonType\": \"string\",\n",
        "                \"description\": \"Nome da transportadora, obrigatório e deve ser uma string\"\n",
        "            },\n",
        "            \"prazo_entrega\": {\n",
        "                \"bsonType\": \"int\",\n",
        "                \"description\": \"Prazo de entrega em dias, obrigatório e deve ser um número inteiro\"\n",
        "            },\n",
        "            \"taxa_frete\": {\n",
        "                \"bsonType\": \"double\",\n",
        "                \"description\": \"Taxa de frete, obrigatório e deve ser um número\"\n",
        "            }\n",
        "        }\n",
        "    }\n",
        "})"
      ],
      "metadata": {
        "colab": {
          "base_uri": "https://localhost:8080/",
          "height": 383
        },
        "id": "3HQlB_ZwfeSg",
        "outputId": "91bbbdb4-5a8c-4299-db92-4a7da9502427"
      },
      "execution_count": null,
      "outputs": [
        {
          "output_type": "error",
          "ename": "CollectionInvalid",
          "evalue": "collection transportadoras already exists",
          "traceback": [
            "\u001b[0;31m---------------------------------------------------------------------------\u001b[0m",
            "\u001b[0;31mCollectionInvalid\u001b[0m                         Traceback (most recent call last)",
            "\u001b[0;32m<ipython-input-25-714376ebf6e8>\u001b[0m in \u001b[0;36m<cell line: 1>\u001b[0;34m()\u001b[0m\n\u001b[0;32m----> 1\u001b[0;31m db.create_collection(\"transportadoras\", validator={\n\u001b[0m\u001b[1;32m      2\u001b[0m     \"$jsonSchema\": {\n\u001b[1;32m      3\u001b[0m         \u001b[0;34m\"bsonType\"\u001b[0m\u001b[0;34m:\u001b[0m \u001b[0;34m\"object\"\u001b[0m\u001b[0;34m,\u001b[0m\u001b[0;34m\u001b[0m\u001b[0;34m\u001b[0m\u001b[0m\n\u001b[1;32m      4\u001b[0m         \u001b[0;34m\"required\"\u001b[0m\u001b[0;34m:\u001b[0m \u001b[0;34m[\u001b[0m\u001b[0;34m\"_id\"\u001b[0m\u001b[0;34m,\u001b[0m \u001b[0;34m\"nome\"\u001b[0m\u001b[0;34m,\u001b[0m \u001b[0;34m\"prazo_entrega\"\u001b[0m\u001b[0;34m,\u001b[0m \u001b[0;34m\"taxa_frete\"\u001b[0m\u001b[0;34m]\u001b[0m\u001b[0;34m,\u001b[0m\u001b[0;34m\u001b[0m\u001b[0;34m\u001b[0m\u001b[0m\n\u001b[1;32m      5\u001b[0m         \"properties\": {\n",
            "\u001b[0;32m/usr/local/lib/python3.10/dist-packages/pymongo/_csot.py\u001b[0m in \u001b[0;36mcsot_wrapper\u001b[0;34m(self, *args, **kwargs)\u001b[0m\n\u001b[1;32m    106\u001b[0m                 \u001b[0;32mwith\u001b[0m \u001b[0m_TimeoutContext\u001b[0m\u001b[0;34m(\u001b[0m\u001b[0mtimeout\u001b[0m\u001b[0;34m)\u001b[0m\u001b[0;34m:\u001b[0m\u001b[0;34m\u001b[0m\u001b[0;34m\u001b[0m\u001b[0m\n\u001b[1;32m    107\u001b[0m                     \u001b[0;32mreturn\u001b[0m \u001b[0mfunc\u001b[0m\u001b[0;34m(\u001b[0m\u001b[0mself\u001b[0m\u001b[0;34m,\u001b[0m \u001b[0;34m*\u001b[0m\u001b[0margs\u001b[0m\u001b[0;34m,\u001b[0m \u001b[0;34m**\u001b[0m\u001b[0mkwargs\u001b[0m\u001b[0;34m)\u001b[0m\u001b[0;34m\u001b[0m\u001b[0;34m\u001b[0m\u001b[0m\n\u001b[0;32m--> 108\u001b[0;31m         \u001b[0;32mreturn\u001b[0m \u001b[0mfunc\u001b[0m\u001b[0;34m(\u001b[0m\u001b[0mself\u001b[0m\u001b[0;34m,\u001b[0m \u001b[0;34m*\u001b[0m\u001b[0margs\u001b[0m\u001b[0;34m,\u001b[0m \u001b[0;34m**\u001b[0m\u001b[0mkwargs\u001b[0m\u001b[0;34m)\u001b[0m\u001b[0;34m\u001b[0m\u001b[0;34m\u001b[0m\u001b[0m\n\u001b[0m\u001b[1;32m    109\u001b[0m \u001b[0;34m\u001b[0m\u001b[0m\n\u001b[1;32m    110\u001b[0m     \u001b[0;32mreturn\u001b[0m \u001b[0mcast\u001b[0m\u001b[0;34m(\u001b[0m\u001b[0mF\u001b[0m\u001b[0;34m,\u001b[0m \u001b[0mcsot_wrapper\u001b[0m\u001b[0;34m)\u001b[0m\u001b[0;34m\u001b[0m\u001b[0;34m\u001b[0m\u001b[0m\n",
            "\u001b[0;32m/usr/local/lib/python3.10/dist-packages/pymongo/database.py\u001b[0m in \u001b[0;36mcreate_collection\u001b[0;34m(self, name, codec_options, read_preference, write_concern, read_concern, session, check_exists, **kwargs)\u001b[0m\n\u001b[1;32m    459\u001b[0m                 \u001b[0;32mand\u001b[0m \u001b[0mname\u001b[0m \u001b[0;32min\u001b[0m \u001b[0mself\u001b[0m\u001b[0;34m.\u001b[0m\u001b[0mlist_collection_names\u001b[0m\u001b[0;34m(\u001b[0m\u001b[0mfilter\u001b[0m\u001b[0;34m=\u001b[0m\u001b[0;34m{\u001b[0m\u001b[0;34m\"name\"\u001b[0m\u001b[0;34m:\u001b[0m \u001b[0mname\u001b[0m\u001b[0;34m}\u001b[0m\u001b[0;34m,\u001b[0m \u001b[0msession\u001b[0m\u001b[0;34m=\u001b[0m\u001b[0ms\u001b[0m\u001b[0;34m)\u001b[0m\u001b[0;34m\u001b[0m\u001b[0;34m\u001b[0m\u001b[0m\n\u001b[1;32m    460\u001b[0m             ):\n\u001b[0;32m--> 461\u001b[0;31m                 \u001b[0;32mraise\u001b[0m \u001b[0mCollectionInvalid\u001b[0m\u001b[0;34m(\u001b[0m\u001b[0;34m\"collection %s already exists\"\u001b[0m \u001b[0;34m%\u001b[0m \u001b[0mname\u001b[0m\u001b[0;34m)\u001b[0m\u001b[0;34m\u001b[0m\u001b[0;34m\u001b[0m\u001b[0m\n\u001b[0m\u001b[1;32m    462\u001b[0m             return Collection(\n\u001b[1;32m    463\u001b[0m                 \u001b[0mself\u001b[0m\u001b[0;34m,\u001b[0m\u001b[0;34m\u001b[0m\u001b[0;34m\u001b[0m\u001b[0m\n",
            "\u001b[0;31mCollectionInvalid\u001b[0m: collection transportadoras already exists"
          ]
        }
      ]
    },
    {
      "cell_type": "code",
      "source": [],
      "metadata": {
        "id": "mPKrfucTffzY"
      },
      "execution_count": null,
      "outputs": []
    },
    {
      "cell_type": "code",
      "source": [
        "# Listar todos os bancos de dados no cluster\n",
        "databases = conexao.list_database_names()\n",
        "\n",
        "# Checar se \"trabalho_bd2\" está na lista\n",
        "if \"trabalho_bd2\" in databases:\n",
        "    print(\"Database 'trabalho_bd2' foi criado com sucesso!\")\n",
        "else:\n",
        "    print(\"Database 'trabalho_bd2' não foi criado :/.\")"
      ],
      "metadata": {
        "id": "HP03qC2ecje8",
        "outputId": "aa1b2f23-019e-4eb1-9d46-7cd259e12eb5",
        "colab": {
          "base_uri": "https://localhost:8080/"
        }
      },
      "execution_count": null,
      "outputs": [
        {
          "output_type": "stream",
          "name": "stdout",
          "text": [
            "Database 'trabalho_bd2' foi criado com sucesso!\n"
          ]
        }
      ]
    },
    {
      "cell_type": "code",
      "source": [
        "query = {\n",
        "    \"$or\": [\n",
        "        {\"nome\": \"João\"},\n",
        "        {\"cpf\": \"12345678901\"}\n",
        "    ]\n",
        "}\n",
        "\n",
        "contagem = db.clientes.count_documents(query)\n",
        "clientes = db.clientes.find(query)\n",
        "if!(contagem==0):\n",
        "    print(\"Nenhum cliente encontrado\")\n",
        "else:\n",
        "    for cliente in clientes:\n",
        "        print(cliente)"
      ],
      "metadata": {
        "id": "Zk4zJhzPhU9D",
        "colab": {
          "base_uri": "https://localhost:8080/",
          "height": 108
        },
        "outputId": "58d2b710-b49e-4827-c874-bd149a286f39"
      },
      "execution_count": null,
      "outputs": [
        {
          "output_type": "error",
          "ename": "SyntaxError",
          "evalue": "invalid syntax (<ipython-input-36-37331d4688cb>, line 10)",
          "traceback": [
            "\u001b[0;36m  File \u001b[0;32m\"<ipython-input-36-37331d4688cb>\"\u001b[0;36m, line \u001b[0;32m10\u001b[0m\n\u001b[0;31m    if!(contagem==0):\u001b[0m\n\u001b[0m      ^\u001b[0m\n\u001b[0;31mSyntaxError\u001b[0m\u001b[0;31m:\u001b[0m invalid syntax\n"
          ]
        }
      ]
    }
  ]
}