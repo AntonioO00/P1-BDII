{
  "nbformat": 4,
  "nbformat_minor": 0,
  "metadata": {
    "colab": {
      "provenance": [],
      "toc_visible": true,
      "authorship_tag": "ABX9TyNoRnqAhw/+6rhJ+xE8cYPs",
      "include_colab_link": true
    },
    "kernelspec": {
      "name": "python3",
      "display_name": "Python 3"
    },
    "language_info": {
      "name": "python"
    }
  },
  "cells": [
    {
      "cell_type": "markdown",
      "metadata": {
        "id": "view-in-github",
        "colab_type": "text"
      },
      "source": [
        "<a href=\"https://colab.research.google.com/github/AntonioO00/P1-BDII/blob/main/MongoDB.ipynb\" target=\"_parent\"><img src=\"https://colab.research.google.com/assets/colab-badge.svg\" alt=\"Open In Colab\"/></a>"
      ]
    },
    {
      "cell_type": "code",
      "source": [
        "!pip install pymongo[srv,tls]"
      ],
      "metadata": {
        "colab": {
          "base_uri": "https://localhost:8080/"
        },
        "id": "WQ-vvv5BU8cX",
        "outputId": "86f7e154-5629-4062-a4b4-9a248be7e5f3"
      },
      "execution_count": null,
      "outputs": [
        {
          "output_type": "stream",
          "name": "stdout",
          "text": [
            "Collecting pymongo[srv,tls]\n",
            "  Downloading pymongo-4.7.3-cp310-cp310-manylinux_2_17_x86_64.manylinux2014_x86_64.whl (669 kB)\n",
            "\u001b[2K     \u001b[90m━━━━━━━━━━━━━━━━━━━━━━━━━━━━━━━━━━━━━━━━\u001b[0m \u001b[32m669.1/669.1 kB\u001b[0m \u001b[31m3.4 MB/s\u001b[0m eta \u001b[36m0:00:00\u001b[0m\n",
            "\u001b[?25hCollecting dnspython<3.0.0,>=1.16.0 (from pymongo[srv,tls])\n",
            "  Downloading dnspython-2.6.1-py3-none-any.whl (307 kB)\n",
            "\u001b[2K     \u001b[90m━━━━━━━━━━━━━━━━━━━━━━━━━━━━━━━━━━━━━━━━\u001b[0m \u001b[32m307.7/307.7 kB\u001b[0m \u001b[31m24.1 MB/s\u001b[0m eta \u001b[36m0:00:00\u001b[0m\n",
            "\u001b[?25hInstalling collected packages: dnspython, pymongo\n",
            "Successfully installed dnspython-2.6.1 pymongo-4.7.3\n"
          ]
        }
      ]
    },
    {
      "cell_type": "code",
      "source": [
        "import pymongo\n",
        "import json\n",
        "import pprint"
      ],
      "metadata": {
        "id": "C4TRZn6RVBgZ"
      },
      "execution_count": null,
      "outputs": []
    },
    {
      "cell_type": "code",
      "source": [
        "mongo_user = \"AntonioO00\"\n",
        "mongo_pw = \"Toninho77\"\n",
        "mongo_host = \"clusterbd2.gnlzt4x.mongodb.net\"\n",
        "mongo_app = \"ClusterBD2\""
      ],
      "metadata": {
        "id": "f0RjLUAOVIYK"
      },
      "execution_count": null,
      "outputs": []
    },
    {
      "cell_type": "code",
      "source": [
        "# estrutura de conexão, não há necessidade de mudar nada por aqui! ;)\n",
        "conexao = pymongo.MongoClient(\"mongodb+srv://\" + mongo_user + \":\" + mongo_pw + \"@\" + mongo_host + \"/?retryWrites=true&w=majority&appName=\" + mongo_app)"
      ],
      "metadata": {
        "id": "iXNeUj2fVMCZ"
      },
      "execution_count": null,
      "outputs": []
    },
    {
      "cell_type": "code",
      "source": [
        "# listando os bancos de dados que estão no seu cluster\n",
        "conexao.list_database_names()"
      ],
      "metadata": {
        "colab": {
          "base_uri": "https://localhost:8080/"
        },
        "id": "nm9KYEAfVQkc",
        "outputId": "42f8916a-1d82-4c0c-a05f-4cc05d539cc9"
      },
      "execution_count": null,
      "outputs": [
        {
          "output_type": "execute_result",
          "data": {
            "text/plain": [
              "['controle_cirurgias_bd', 'sample_mflix', 'admin', 'local']"
            ]
          },
          "metadata": {},
          "execution_count": 5
        }
      ]
    },
    {
      "cell_type": "code",
      "source": [
        "# definir uma variável para armazenar a conexão com o banco de dados\n",
        "# a variável conexão guarda o acesso ao banco, deve-se passar por parâmetro o nome do banco de dados a ser acessado e/ou criado\n",
        "db = conexao[\"trabalho_bd2\"] # Removed extra indent"
      ],
      "metadata": {
        "id": "XWBT1ahBXf68"
      },
      "execution_count": null,
      "outputs": []
    },
    {
      "cell_type": "code",
      "source": [
        "# pode ser útil para obter informações gerais sobre o banco de dados\n",
        "db.command(\"dbstats\")"
      ],
      "metadata": {
        "colab": {
          "base_uri": "https://localhost:8080/"
        },
        "id": "XfHApe-PYRZF",
        "outputId": "3e601984-aedd-4618-c563-29721113aca8"
      },
      "execution_count": null,
      "outputs": [
        {
          "output_type": "execute_result",
          "data": {
            "text/plain": [
              "{'db': 'trabalho_bd2',\n",
              " 'collections': 0,\n",
              " 'views': 0,\n",
              " 'objects': 0,\n",
              " 'avgObjSize': 0.0,\n",
              " 'dataSize': 0,\n",
              " 'storageSize': 0,\n",
              " 'totalFreeStorageSize': 0,\n",
              " 'numExtents': 0,\n",
              " 'indexes': 0,\n",
              " 'indexSize': 0,\n",
              " 'indexFreeStorageSize': 0,\n",
              " 'fileSize': 0,\n",
              " 'nsSizeMB': 0,\n",
              " 'ok': 1}"
            ]
          },
          "metadata": {},
          "execution_count": 20
        }
      ]
    },
    {
      "cell_type": "code",
      "source": [
        "# lista todas as coleções existentes no banco de dados selecionado\n",
        "db.list_collection_names()"
      ],
      "metadata": {
        "colab": {
          "base_uri": "https://localhost:8080/"
        },
        "id": "KRUcPvQ4Y4I1",
        "outputId": "e2a5a0b1-b64e-4053-d2af-b6121184531d"
      },
      "execution_count": null,
      "outputs": [
        {
          "output_type": "execute_result",
          "data": {
            "text/plain": [
              "[]"
            ]
          },
          "metadata": {},
          "execution_count": 21
        }
      ]
    },
    {
      "cell_type": "code",
      "source": [
        "{\n",
        "  \"$jsonSchema\": {\n",
        "    \"bsonType\": \"object\",\n",
        "    \"required\": [\"_id\", \"nome\", \"cpf\", \"email\", \"senha\"],\n",
        "    \"properties\": {\n",
        "      \"_id\": {\n",
        "        \"bsonType\": \"string\",\n",
        "        \"description\": \"ID do cliente, obrigatório e deve ser uma string\"\n",
        "      },\n",
        "      \"nome\": {\n",
        "        \"bsonType\": \"string\",\n",
        "        \"description\": \"Nome do cliente, obrigatório e deve ser uma string\"\n",
        "      },\n",
        "      \"cpf\": {\n",
        "        \"bsonType\": \"string\",\n",
        "        \"pattern\": \"^[0-9]{11}$\",\n",
        "        \"description\": \"CPF do cliente, obrigatório e deve ser uma string de 11 dígitos\"\n",
        "      },\n",
        "      \"email\": {\n",
        "        \"bsonType\": \"string\",\n",
        "        \"description\": \"Email do cliente, obrigatório e deve ser uma string\"\n",
        "      },\n",
        "      \"senha\": {\n",
        "        \"bsonType\": \"string\",\n",
        "        \"description\": \"Senha do cliente, obrigatório e deve ser uma string\"\n",
        "      },\n",
        "      \"telefone\": {\n",
        "        \"bsonType\": \"string\",\n",
        "        \"description\": \"Telefone do cliente, opcional\"\n",
        "      }\n",
        "    }\n",
        "  }\n",
        "}"
      ],
      "metadata": {
        "colab": {
          "base_uri": "https://localhost:8080/"
        },
        "id": "GA5zi6HeX1IH",
        "outputId": "b12bc53b-e054-4d2d-c7ad-d7d8f4bfa2b3"
      },
      "execution_count": null,
      "outputs": [
        {
          "output_type": "execute_result",
          "data": {
            "text/plain": [
              "{'$jsonSchema': {'bsonType': 'object',\n",
              "  'required': ['_id', 'nome', 'cpf', 'email', 'senha'],\n",
              "  'properties': {'_id': {'bsonType': 'string',\n",
              "    'description': 'ID do cliente, obrigatório e deve ser uma string'},\n",
              "   'nome': {'bsonType': 'string',\n",
              "    'description': 'Nome do cliente, obrigatório e deve ser uma string'},\n",
              "   'cpf': {'bsonType': 'string',\n",
              "    'pattern': '^[0-9]{11}$',\n",
              "    'description': 'CPF do cliente, obrigatório e deve ser uma string de 11 dígitos'},\n",
              "   'email': {'bsonType': 'string',\n",
              "    'description': 'Email do cliente, obrigatório e deve ser uma string'},\n",
              "   'senha': {'bsonType': 'string',\n",
              "    'description': 'Senha do cliente, obrigatório e deve ser uma string'},\n",
              "   'telefone': {'bsonType': 'string',\n",
              "    'description': 'Telefone do cliente, opcional'}}}}"
            ]
          },
          "metadata": {},
          "execution_count": 22
        }
      ]
    },
    {
      "cell_type": "code",
      "source": [
        "{\n",
        "  \"$jsonSchema\": {\n",
        "    \"bsonType\": \"object\",\n",
        "    \"required\": [\"_id\", \"cliente_id\", \"logradouro\", \"cidade\", \"estado\", \"cep\"],\n",
        "    \"properties\": {\n",
        "      \"_id\": {\n",
        "        \"bsonType\": \"string\",\n",
        "        \"description\": \"ID do endereço, obrigatório e deve ser uma string\"\n",
        "      },\n",
        "      \"cliente_id\": {\n",
        "        \"bsonType\": \"string\",\n",
        "        \"description\": \"Referência ao cliente, obrigatório e deve ser uma string\"\n",
        "      },\n",
        "      \"logradouro\": {\n",
        "        \"bsonType\": \"string\",\n",
        "        \"description\": \"Logradouro, obrigatório e deve ser uma string\"\n",
        "      },\n",
        "      \"cidade\": {\n",
        "        \"bsonType\": \"string\",\n",
        "        \"description\": \"Cidade, obrigatório e deve ser uma string\"\n",
        "      },\n",
        "      \"estado\": {\n",
        "        \"bsonType\": \"string\",\n",
        "        \"description\": \"Estado, obrigatório e deve ser uma string\"\n",
        "      },\n",
        "      \"cep\": {\n",
        "        \"bsonType\": \"string\",\n",
        "        \"pattern\": \"^[0-9]{8}$\",\n",
        "        \"description\": \"CEP, obrigatório e deve ser uma string de 8 dígitos\"\n",
        "      }\n",
        "    }\n",
        "  }\n",
        "}\n"
      ],
      "metadata": {
        "colab": {
          "base_uri": "https://localhost:8080/"
        },
        "id": "Nd5V0Bbfc7-W",
        "outputId": "533e3534-c4d7-4b7f-fd4f-2afe5788de5b"
      },
      "execution_count": null,
      "outputs": [
        {
          "output_type": "execute_result",
          "data": {
            "text/plain": [
              "{'$jsonSchema': {'bsonType': 'object',\n",
              "  'required': ['_id', 'cliente_id', 'logradouro', 'cidade', 'estado', 'cep'],\n",
              "  'properties': {'_id': {'bsonType': 'string',\n",
              "    'description': 'ID do endereço, obrigatório e deve ser uma string'},\n",
              "   'cliente_id': {'bsonType': 'string',\n",
              "    'description': 'Referência ao cliente, obrigatório e deve ser uma string'},\n",
              "   'logradouro': {'bsonType': 'string',\n",
              "    'description': 'Logradouro, obrigatório e deve ser uma string'},\n",
              "   'cidade': {'bsonType': 'string',\n",
              "    'description': 'Cidade, obrigatório e deve ser uma string'},\n",
              "   'estado': {'bsonType': 'string',\n",
              "    'description': 'Estado, obrigatório e deve ser uma string'},\n",
              "   'cep': {'bsonType': 'string',\n",
              "    'pattern': '^[0-9]{8}$',\n",
              "    'description': 'CEP, obrigatório e deve ser uma string de 8 dígitos'}}}}"
            ]
          },
          "metadata": {},
          "execution_count": 23
        }
      ]
    },
    {
      "cell_type": "code",
      "source": [
        "\n",
        "{\n",
        "  \"$jsonSchema\": {\n",
        "    \"bsonType\": \"object\",\n",
        "    \"required\": [\"_id\", \"nome\", \"descricao\", \"preco\", \"quantidade_estoque\"],\n",
        "    \"properties\": {\n",
        "      \"_id\": {\n",
        "        \"bsonType\": \"string\",\n",
        "        \"description\": \"ID do produto, obrigatório e deve ser uma string\"\n",
        "      },\n",
        "      \"nome\": {\n",
        "        \"bsonType\": \"string\",\n",
        "        \"description\": \"Nome do produto, obrigatório e deve ser uma string\"\n",
        "      },\n",
        "      \"descricao\": {\n",
        "        \"bsonType\": \"string\",\n",
        "        \"description\": \"Descrição do produto, obrigatório e deve ser uma string\"\n",
        "      },\n",
        "      \"preco\": {\n",
        "        \"bsonType\": \"double\",\n",
        "        \"description\": \"Preço do produto, obrigatório e deve ser um número\"\n",
        "      },\n",
        "      \"quantidade_estoque\": {\n",
        "        \"bsonType\": \"int\",\n",
        "        \"description\": \"Quantidade em estoque, obrigatório e deve ser um número inteiro\"\n",
        "      }\n",
        "    }\n",
        "  }\n",
        "}"
      ],
      "metadata": {
        "colab": {
          "base_uri": "https://localhost:8080/"
        },
        "id": "50DuPap7dFVE",
        "outputId": "923bedef-dea2-46cf-9f64-0efc0d7670ef"
      },
      "execution_count": null,
      "outputs": [
        {
          "output_type": "execute_result",
          "data": {
            "text/plain": [
              "{'$jsonSchema': {'bsonType': 'object',\n",
              "  'required': ['_id', 'nome', 'descricao', 'preco', 'quantidade_estoque'],\n",
              "  'properties': {'_id': {'bsonType': 'string',\n",
              "    'description': 'ID do produto, obrigatório e deve ser uma string'},\n",
              "   'nome': {'bsonType': 'string',\n",
              "    'description': 'Nome do produto, obrigatório e deve ser uma string'},\n",
              "   'descricao': {'bsonType': 'string',\n",
              "    'description': 'Descrição do produto, obrigatório e deve ser uma string'},\n",
              "   'preco': {'bsonType': 'double',\n",
              "    'description': 'Preço do produto, obrigatório e deve ser um número'},\n",
              "   'quantidade_estoque': {'bsonType': 'int',\n",
              "    'description': 'Quantidade em estoque, obrigatório e deve ser um número inteiro'}}}}"
            ]
          },
          "metadata": {},
          "execution_count": 24
        }
      ]
    },
    {
      "cell_type": "code",
      "source": [
        "{\n",
        "  \"$jsonSchema\": {\n",
        "    \"bsonType\": \"object\",\n",
        "    \"required\": [\"_id\", \"cliente_id\", \"data_pedido\", \"endereco_entrega\", \"status\", \"valor_total\"],\n",
        "    \"properties\": {\n",
        "      \"_id\": {\n",
        "        \"bsonType\": \"string\",\n",
        "        \"description\": \"ID do pedido, obrigatório e deve ser uma string\"\n",
        "      },\n",
        "      \"cliente_id\": {\n",
        "        \"bsonType\": \"string\",\n",
        "        \"description\": \"Referência ao cliente, obrigatório e deve ser uma string\"\n",
        "      },\n",
        "      \"data_pedido\": {\n",
        "        \"bsonType\": \"date\",\n",
        "        \"description\": \"Data do pedido, obrigatório e deve ser uma data\"\n",
        "      },\n",
        "      \"endereco_entrega\": {\n",
        "        \"bsonType\": \"object\",\n",
        "        \"required\": [\"logradouro\", \"cidade\", \"estado\", \"cep\"],\n",
        "        \"properties\": {\n",
        "          \"logradouro\": {\n",
        "            \"bsonType\": \"string\",\n",
        "            \"description\": \"Logradouro, obrigatório e deve ser uma string\"\n",
        "          },\n",
        "          \"cidade\": {\n",
        "            \"bsonType\": \"string\",\n",
        "            \"description\": \"Cidade, obrigatório e deve ser uma string\"\n",
        "          },\n",
        "          \"estado\": {\n",
        "            \"bsonType\": \"string\",\n",
        "            \"description\": \"Estado, obrigatório e deve ser uma string\"\n",
        "          },\n",
        "          \"cep\": {\n",
        "            \"bsonType\": \"string\",\n",
        "            \"pattern\": \"^[0-9]{8}$\",\n",
        "            \"description\": \"CEP, obrigatório e deve ser uma string de 8 dígitos\"\n",
        "          }\n",
        "        }\n",
        "      },\n",
        "      \"status\": {\n",
        "        \"bsonType\": \"string\",\n",
        "        \"description\": \"Status do pedido, obrigatório e deve ser uma string\"\n",
        "      },\n",
        "      \"valor_total\": {\n",
        "        \"bsonType\": \"double\",\n",
        "        \"description\": \"Valor total do pedido, obrigatório e deve ser um número\"\n",
        "      }\n",
        "    }\n",
        "  }\n",
        "}"
      ],
      "metadata": {
        "colab": {
          "base_uri": "https://localhost:8080/"
        },
        "id": "cvSQzFyhdLoB",
        "outputId": "8ee8ac65-f88e-453f-b90b-a0338cf4ced1"
      },
      "execution_count": null,
      "outputs": [
        {
          "output_type": "execute_result",
          "data": {
            "text/plain": [
              "{'$jsonSchema': {'bsonType': 'object',\n",
              "  'required': ['_id',\n",
              "   'cliente_id',\n",
              "   'data_pedido',\n",
              "   'endereco_entrega',\n",
              "   'status',\n",
              "   'valor_total'],\n",
              "  'properties': {'_id': {'bsonType': 'string',\n",
              "    'description': 'ID do pedido, obrigatório e deve ser uma string'},\n",
              "   'cliente_id': {'bsonType': 'string',\n",
              "    'description': 'Referência ao cliente, obrigatório e deve ser uma string'},\n",
              "   'data_pedido': {'bsonType': 'date',\n",
              "    'description': 'Data do pedido, obrigatório e deve ser uma data'},\n",
              "   'endereco_entrega': {'bsonType': 'object',\n",
              "    'required': ['logradouro', 'cidade', 'estado', 'cep'],\n",
              "    'properties': {'logradouro': {'bsonType': 'string',\n",
              "      'description': 'Logradouro, obrigatório e deve ser uma string'},\n",
              "     'cidade': {'bsonType': 'string',\n",
              "      'description': 'Cidade, obrigatório e deve ser uma string'},\n",
              "     'estado': {'bsonType': 'string',\n",
              "      'description': 'Estado, obrigatório e deve ser uma string'},\n",
              "     'cep': {'bsonType': 'string',\n",
              "      'pattern': '^[0-9]{8}$',\n",
              "      'description': 'CEP, obrigatório e deve ser uma string de 8 dígitos'}}},\n",
              "   'status': {'bsonType': 'string',\n",
              "    'description': 'Status do pedido, obrigatório e deve ser uma string'},\n",
              "   'valor_total': {'bsonType': 'double',\n",
              "    'description': 'Valor total do pedido, obrigatório e deve ser um número'}}}}"
            ]
          },
          "metadata": {},
          "execution_count": 25
        }
      ]
    },
    {
      "cell_type": "code",
      "source": [
        "{\n",
        "  \"$jsonSchema\": {\n",
        "    \"bsonType\": \"object\",\n",
        "    \"required\": [\"_id\", \"pedido_id\", \"produto_id\", \"quantidade\", \"preco_unitario\"],\n",
        "    \"properties\": {\n",
        "      \"_id\": {\n",
        "        \"bsonType\": \"string\",\n",
        "        \"description\": \"ID do item do pedido, obrigatório e deve ser uma string\"\n",
        "      },\n",
        "      \"pedido_id\": {\n",
        "        \"bsonType\": \"string\",\n",
        "        \"description\": \"Referência ao pedido, obrigatório e deve ser uma string\"\n",
        "      },\n",
        "      \"produto_id\": {\n",
        "        \"bsonType\": \"string\",\n",
        "        \"description\": \"Referência ao produto, obrigatório e deve ser uma string\"\n",
        "      },\n",
        "      \"quantidade\": {\n",
        "        \"bsonType\": \"int\",\n",
        "        \"description\": \"Quantidade do produto, obrigatório e deve ser um número inteiro\"\n",
        "      },\n",
        "      \"preco_unitario\": {\n",
        "        \"bsonType\": \"double\",\n",
        "        \"description\": \"Preço unitário do produto, obrigatório e deve ser um número\"\n",
        "      }\n",
        "    }\n",
        "  }\n",
        "}"
      ],
      "metadata": {
        "colab": {
          "base_uri": "https://localhost:8080/"
        },
        "id": "P6TsdzQ5dT5x",
        "outputId": "d4646285-4a6b-4891-d1c0-44f3071bd2bc"
      },
      "execution_count": null,
      "outputs": [
        {
          "output_type": "execute_result",
          "data": {
            "text/plain": [
              "{'$jsonSchema': {'bsonType': 'object',\n",
              "  'required': ['_id',\n",
              "   'pedido_id',\n",
              "   'produto_id',\n",
              "   'quantidade',\n",
              "   'preco_unitario'],\n",
              "  'properties': {'_id': {'bsonType': 'string',\n",
              "    'description': 'ID do item do pedido, obrigatório e deve ser uma string'},\n",
              "   'pedido_id': {'bsonType': 'string',\n",
              "    'description': 'Referência ao pedido, obrigatório e deve ser uma string'},\n",
              "   'produto_id': {'bsonType': 'string',\n",
              "    'description': 'Referência ao produto, obrigatório e deve ser uma string'},\n",
              "   'quantidade': {'bsonType': 'int',\n",
              "    'description': 'Quantidade do produto, obrigatório e deve ser um número inteiro'},\n",
              "   'preco_unitario': {'bsonType': 'double',\n",
              "    'description': 'Preço unitário do produto, obrigatório e deve ser um número'}}}}"
            ]
          },
          "metadata": {},
          "execution_count": 26
        }
      ]
    },
    {
      "cell_type": "code",
      "source": [
        "{\n",
        "  \"$jsonSchema\": {\n",
        "    \"bsonType\": \"object\",\n",
        "    \"required\": [\"_id\", \"produto_id\", \"cliente_id\", \"nota\", \"comentario\"],\n",
        "    \"properties\": {\n",
        "      \"_id\": {\n",
        "        \"bsonType\": \"string\",\n",
        "        \"description\": \"ID da avaliação, obrigatório e deve ser uma string\"\n",
        "      },\n",
        "      \"produto_id\": {\n",
        "        \"bsonType\": \"string\",\n",
        "        \"description\": \"Referência ao produto, obrigatório e deve ser uma string\"\n",
        "      },\n",
        "      \"cliente_id\": {\n",
        "        \"bsonType\": \"string\",\n",
        "        \"description\": \"Referência ao cliente, obrigatório e deve ser uma string\"\n",
        "      },\n",
        "      \"nota\": {\n",
        "        \"bsonType\": \"int\",\n",
        "        \"minimum\": 1,\n",
        "        \"maximum\": 5,\n",
        "        \"description\": \"Nota da avaliação, obrigatório e deve ser um número inteiro entre 1 e 5\"\n",
        "      },\n",
        "      \"comentario\": {\n",
        "        \"bsonType\": \"string\",\n",
        "        \"description\": \"Comentário da avaliação, obrigatório e deve ser uma string\"\n",
        "      }\n",
        "    }\n",
        "  }\n",
        "}"
      ],
      "metadata": {
        "colab": {
          "base_uri": "https://localhost:8080/"
        },
        "id": "MlEGCuZAdYb7",
        "outputId": "8396a0e1-541f-499c-8e44-2096eeedebb0"
      },
      "execution_count": null,
      "outputs": [
        {
          "output_type": "execute_result",
          "data": {
            "text/plain": [
              "{'$jsonSchema': {'bsonType': 'object',\n",
              "  'required': ['_id', 'produto_id', 'cliente_id', 'nota', 'comentario'],\n",
              "  'properties': {'_id': {'bsonType': 'string',\n",
              "    'description': 'ID da avaliação, obrigatório e deve ser uma string'},\n",
              "   'produto_id': {'bsonType': 'string',\n",
              "    'description': 'Referência ao produto, obrigatório e deve ser uma string'},\n",
              "   'cliente_id': {'bsonType': 'string',\n",
              "    'description': 'Referência ao cliente, obrigatório e deve ser uma string'},\n",
              "   'nota': {'bsonType': 'int',\n",
              "    'minimum': 1,\n",
              "    'maximum': 5,\n",
              "    'description': 'Nota da avaliação, obrigatório e deve ser um número inteiro entre 1 e 5'},\n",
              "   'comentario': {'bsonType': 'string',\n",
              "    'description': 'Comentário da avaliação, obrigatório e deve ser uma string'}}}}"
            ]
          },
          "metadata": {},
          "execution_count": 27
        }
      ]
    },
    {
      "cell_type": "code",
      "source": [
        "{\n",
        "  \"$jsonSchema\": {\n",
        "    \"bsonType\": \"object\",\n",
        "    \"required\": [\"_id\", \"nome\", \"prazo_entrega\", \"taxa_frete\"],\n",
        "    \"properties\": {\n",
        "      \"_id\": {\n",
        "        \"bsonType\": \"string\",\n",
        "        \"description\": \"ID da transportadora, obrigatório e deve ser uma string\"\n",
        "      },\n",
        "      \"nome\": {\n",
        "        \"bsonType\": \"string\",\n",
        "        \"description\": \"Nome da transportadora, obrigatório e deve ser uma string\"\n",
        "      },\n",
        "      \"prazo_entrega\": {\n",
        "        \"bsonType\": \"int\",\n",
        "        \"description\": \"Prazo de entrega em dias, obrigatório e deve ser um número inteiro\"\n",
        "      },\n",
        "      \"taxa_frete\": {\n",
        "        \"bsonType\": \"double\",\n",
        "        \"description\": \"Taxa de frete, obrigatório e deve ser um número\"\n",
        "      }\n",
        "    }\n",
        "  }\n",
        "}"
      ],
      "metadata": {
        "colab": {
          "base_uri": "https://localhost:8080/"
        },
        "id": "UXGFxhyOdcv2",
        "outputId": "39033765-7352-45a0-948c-8386a8dabcf5"
      },
      "execution_count": null,
      "outputs": [
        {
          "output_type": "execute_result",
          "data": {
            "text/plain": [
              "{'$jsonSchema': {'bsonType': 'object',\n",
              "  'required': ['_id', 'nome', 'prazo_entrega', 'taxa_frete'],\n",
              "  'properties': {'_id': {'bsonType': 'string',\n",
              "    'description': 'ID da transportadora, obrigatório e deve ser uma string'},\n",
              "   'nome': {'bsonType': 'string',\n",
              "    'description': 'Nome da transportadora, obrigatório e deve ser uma string'},\n",
              "   'prazo_entrega': {'bsonType': 'int',\n",
              "    'description': 'Prazo de entrega em dias, obrigatório e deve ser um número inteiro'},\n",
              "   'taxa_frete': {'bsonType': 'double',\n",
              "    'description': 'Taxa de frete, obrigatório e deve ser um número'}}}}"
            ]
          },
          "metadata": {},
          "execution_count": 28
        }
      ]
    },
    {
      "cell_type": "code",
      "source": [
        "db.create_collection(\"clientes\", validator={\n",
        "    \"$jsonSchema\": {\n",
        "        \"bsonType\": \"object\",\n",
        "        \"required\": [\"_id\", \"nome\", \"cpf\", \"email\", \"senha\"],\n",
        "        \"properties\": {\n",
        "            \"_id\": {\n",
        "                \"bsonType\": \"string\",\n",
        "                \"description\": \"ID do cliente, obrigatório e deve ser uma string\"\n",
        "            },\n",
        "            \"nome\": {\n",
        "                \"bsonType\": \"string\",\n",
        "                \"description\": \"Nome do cliente, obrigatório e deve ser uma string\"\n",
        "            },\n",
        "            \"cpf\": {\n",
        "                \"bsonType\": \"string\",\n",
        "                \"pattern\": \"^[0-9]{11}$\",\n",
        "                \"description\": \"CPF do cliente, obrigatório e deve ser uma string de 11 dígitos\"\n",
        "            },\n",
        "            \"email\": {\n",
        "                \"bsonType\": \"string\",\n",
        "                \"description\": \"Email do cliente, obrigatório e deve ser uma string\"\n",
        "            },\n",
        "            \"senha\": {\n",
        "                \"bsonType\": \"string\",\n",
        "                \"description\": \"Senha do cliente, obrigatório e deve ser uma string\"\n",
        "            },\n",
        "            \"telefone\": {\n",
        "                \"bsonType\": \"string\",\n",
        "                \"description\": \"Telefone do cliente, opcional\"\n",
        "            }\n",
        "        }\n",
        "    }\n",
        "})"
      ],
      "metadata": {
        "colab": {
          "base_uri": "https://localhost:8080/"
        },
        "id": "4zVs9dL_duXj",
        "outputId": "c02fa878-3947-4320-a923-9527d1f51a25"
      },
      "execution_count": null,
      "outputs": [
        {
          "output_type": "execute_result",
          "data": {
            "text/plain": [
              "Collection(Database(MongoClient(host=['ac-u3recm4-shard-00-02.gnlzt4x.mongodb.net:27017', 'ac-u3recm4-shard-00-00.gnlzt4x.mongodb.net:27017', 'ac-u3recm4-shard-00-01.gnlzt4x.mongodb.net:27017'], document_class=dict, tz_aware=False, connect=True, retrywrites=True, w='majority', appname='ClusterBD2', authsource='admin', replicaset='atlas-6ds6pq-shard-0', tls=True), 'trabalho_bd2'), 'clientes')"
            ]
          },
          "metadata": {},
          "execution_count": 30
        }
      ]
    },
    {
      "cell_type": "code",
      "source": [
        "db.create_collection(\"enderecos\", validator={\n",
        "    \"$jsonSchema\": {\n",
        "        \"bsonType\": \"object\",\n",
        "        \"required\": [\"_id\", \"cliente_id\", \"logradouro\", \"cidade\", \"estado\", \"cep\"],\n",
        "        \"properties\": {\n",
        "            \"_id\": {\n",
        "                \"bsonType\": \"string\",\n",
        "                \"description\": \"ID do endereço, obrigatório e deve ser uma string\"\n",
        "            },\n",
        "            \"cliente_id\": {\n",
        "                \"bsonType\": \"string\",\n",
        "                \"description\": \"Referência ao cliente, obrigatório e deve ser uma string\"\n",
        "            },\n",
        "            \"logradouro\": {\n",
        "                \"bsonType\": \"string\",\n",
        "                \"description\": \"Logradouro, obrigatório e deve ser uma string\"\n",
        "            },\n",
        "            \"cidade\": {\n",
        "                \"bsonType\": \"string\",\n",
        "                \"description\": \"Cidade, obrigatório e deve ser uma string\"\n",
        "            },\n",
        "            \"estado\": {\n",
        "                \"bsonType\": \"string\",\n",
        "                \"description\": \"Estado, obrigatório e deve ser uma string\"\n",
        "            },\n",
        "            \"cep\": {\n",
        "                \"bsonType\": \"string\",\n",
        "                \"pattern\": \"^[0-9]{8}$\",\n",
        "                \"description\": \"CEP, obrigatório e deve ser uma string de 8 dígitos\"\n",
        "            }\n",
        "        }\n",
        "    }\n",
        "})\n"
      ],
      "metadata": {
        "colab": {
          "base_uri": "https://localhost:8080/"
        },
        "id": "iux_B4l2e1OJ",
        "outputId": "8c225847-5dee-43f8-9e15-10dd916316d5"
      },
      "execution_count": null,
      "outputs": [
        {
          "output_type": "execute_result",
          "data": {
            "text/plain": [
              "Collection(Database(MongoClient(host=['ac-u3recm4-shard-00-02.gnlzt4x.mongodb.net:27017', 'ac-u3recm4-shard-00-00.gnlzt4x.mongodb.net:27017', 'ac-u3recm4-shard-00-01.gnlzt4x.mongodb.net:27017'], document_class=dict, tz_aware=False, connect=True, retrywrites=True, w='majority', appname='ClusterBD2', authsource='admin', replicaset='atlas-6ds6pq-shard-0', tls=True), 'trabalho_bd2'), 'enderecos')"
            ]
          },
          "metadata": {},
          "execution_count": 31
        }
      ]
    },
    {
      "cell_type": "code",
      "source": [
        "db.create_collection(\"produtos\", validator={\n",
        "    \"$jsonSchema\": {\n",
        "        \"bsonType\": \"object\",\n",
        "        \"required\": [\"_id\", \"nome\", \"descricao\", \"preco\", \"quantidade_estoque\"],\n",
        "        \"properties\": {\n",
        "            \"_id\": {\n",
        "                \"bsonType\": \"string\",\n",
        "                \"description\": \"ID do produto, obrigatório e deve ser uma string\"\n",
        "            },\n",
        "            \"nome\": {\n",
        "                \"bsonType\": \"string\",\n",
        "                \"description\": \"Nome do produto, obrigatório e deve ser uma string\"\n",
        "            },\n",
        "            \"descricao\": {\n",
        "                \"bsonType\": \"string\",\n",
        "                \"description\": \"Descrição do produto, obrigatório e deve ser uma string\"\n",
        "            },\n",
        "            \"preco\": {\n",
        "                \"bsonType\": \"double\",\n",
        "                \"description\": \"Preço do produto, obrigatório e deve ser um número\"\n",
        "            },\n",
        "            \"quantidade_estoque\": {\n",
        "                \"bsonType\": \"int\",\n",
        "                \"description\": \"Quantidade em estoque, obrigatório e deve ser um número inteiro\"\n",
        "            }\n",
        "        }\n",
        "    }\n",
        "})"
      ],
      "metadata": {
        "colab": {
          "base_uri": "https://localhost:8080/"
        },
        "id": "q0UGS35GfBJU",
        "outputId": "f003509a-5b86-472c-c61d-9369df978e6d"
      },
      "execution_count": null,
      "outputs": [
        {
          "output_type": "execute_result",
          "data": {
            "text/plain": [
              "Collection(Database(MongoClient(host=['ac-u3recm4-shard-00-02.gnlzt4x.mongodb.net:27017', 'ac-u3recm4-shard-00-00.gnlzt4x.mongodb.net:27017', 'ac-u3recm4-shard-00-01.gnlzt4x.mongodb.net:27017'], document_class=dict, tz_aware=False, connect=True, retrywrites=True, w='majority', appname='ClusterBD2', authsource='admin', replicaset='atlas-6ds6pq-shard-0', tls=True), 'trabalho_bd2'), 'produtos')"
            ]
          },
          "metadata": {},
          "execution_count": 32
        }
      ]
    },
    {
      "cell_type": "code",
      "source": [
        "db.create_collection(\"pedidos\", validator={\n",
        "    \"$jsonSchema\": {\n",
        "        \"bsonType\": \"object\",\n",
        "        \"required\": [\"_id\", \"cliente_id\", \"data_pedido\", \"endereco_entrega\", \"status\", \"valor_total\"],\n",
        "        \"properties\": {\n",
        "            \"_id\": {\n",
        "                \"bsonType\": \"string\",\n",
        "                \"description\": \"ID do pedido, obrigatório e deve ser uma string\"\n",
        "            },\n",
        "            \"cliente_id\": {\n",
        "                \"bsonType\": \"string\",\n",
        "                \"description\": \"Referência ao cliente, obrigatório e deve ser uma string\"\n",
        "            },\n",
        "            \"data_pedido\": {\n",
        "                \"bsonType\": \"date\",\n",
        "                \"description\": \"Data do pedido, obrigatório e deve ser uma data\"\n",
        "            },\n",
        "            \"endereco_entrega\": {\n",
        "                \"bsonType\": \"object\",\n",
        "                \"required\": [\"logradouro\", \"cidade\", \"estado\", \"cep\"],\n",
        "                \"properties\": {\n",
        "                    \"logradouro\": {\n",
        "                        \"bsonType\": \"string\",\n",
        "                        \"description\": \"Logradouro, obrigatório e deve ser uma string\"\n",
        "                    },\n",
        "                    \"cidade\": {\n",
        "                        \"bsonType\": \"string\",\n",
        "                        \"description\": \"Cidade, obrigatório e deve ser uma string\"\n",
        "                    },\n",
        "                    \"estado\": {\n",
        "                        \"bsonType\": \"string\",\n",
        "                        \"description\": \"Estado, obrigatório e deve ser uma string\"\n",
        "                    },\n",
        "                    \"cep\": {\n",
        "                        \"bsonType\": \"string\",\n",
        "                        \"pattern\": \"^[0-9]{8}$\",\n",
        "                        \"description\": \"CEP, obrigatório e deve ser uma string de 8 dígitos\"\n",
        "                    }\n",
        "                }\n",
        "            },\n",
        "            \"status\": {\n",
        "                \"bsonType\": \"string\",\n",
        "                \"description\": \"Status do pedido, obrigatório e deve ser uma string\"\n",
        "            },\n",
        "            \"valor_total\": {\n",
        "                \"bsonType\": \"double\",\n",
        "                \"description\": \"Valor total do pedido, obrigatório e deve ser um número\"\n",
        "            }\n",
        "        }\n",
        "    }\n",
        "})"
      ],
      "metadata": {
        "colab": {
          "base_uri": "https://localhost:8080/"
        },
        "id": "J16o6lhFfOMS",
        "outputId": "3c75f516-aed6-40dd-bab9-a78c79a3a55e"
      },
      "execution_count": null,
      "outputs": [
        {
          "output_type": "execute_result",
          "data": {
            "text/plain": [
              "Collection(Database(MongoClient(host=['ac-u3recm4-shard-00-02.gnlzt4x.mongodb.net:27017', 'ac-u3recm4-shard-00-00.gnlzt4x.mongodb.net:27017', 'ac-u3recm4-shard-00-01.gnlzt4x.mongodb.net:27017'], document_class=dict, tz_aware=False, connect=True, retrywrites=True, w='majority', appname='ClusterBD2', authsource='admin', replicaset='atlas-6ds6pq-shard-0', tls=True), 'trabalho_bd2'), 'pedidos')"
            ]
          },
          "metadata": {},
          "execution_count": 33
        }
      ]
    },
    {
      "cell_type": "code",
      "source": [
        "db.create_collection(\"itens_pedido\", validator={\n",
        "    \"$jsonSchema\": {\n",
        "        \"bsonType\": \"object\",\n",
        "        \"required\": [\"_id\", \"pedido_id\", \"produto_id\", \"quantidade\", \"preco_unitario\"],\n",
        "        \"properties\": {\n",
        "            \"_id\": {\n",
        "                \"bsonType\": \"string\",\n",
        "                \"description\": \"ID do item do pedido, obrigatório e deve ser uma string\"\n",
        "            },\n",
        "            \"pedido_id\": {\n",
        "                \"bsonType\": \"string\",\n",
        "                \"description\": \"Referência ao pedido, obrigatório e deve ser uma string\"\n",
        "            },\n",
        "            \"produto_id\": {\n",
        "                \"bsonType\": \"string\",\n",
        "                \"description\": \"Referência ao produto, obrigatório e deve ser uma string\"\n",
        "            },\n",
        "            \"quantidade\": {\n",
        "                \"bsonType\": \"int\",\n",
        "                \"description\": \"Quantidade do produto, obrigatório e deve ser um número inteiro\"\n",
        "            },\n",
        "            \"preco_unitario\": {\n",
        "                \"bsonType\": \"double\",\n",
        "                \"description\": \"Preço unitário do produto, obrigatório e deve ser um número\"\n",
        "            }\n",
        "        }\n",
        "    }\n",
        "})\n"
      ],
      "metadata": {
        "colab": {
          "base_uri": "https://localhost:8080/"
        },
        "id": "2tPZ8AXKfVqf",
        "outputId": "4718f07e-2084-4c20-d57d-a80969adcfac"
      },
      "execution_count": null,
      "outputs": [
        {
          "output_type": "execute_result",
          "data": {
            "text/plain": [
              "Collection(Database(MongoClient(host=['ac-u3recm4-shard-00-02.gnlzt4x.mongodb.net:27017', 'ac-u3recm4-shard-00-00.gnlzt4x.mongodb.net:27017', 'ac-u3recm4-shard-00-01.gnlzt4x.mongodb.net:27017'], document_class=dict, tz_aware=False, connect=True, retrywrites=True, w='majority', appname='ClusterBD2', authsource='admin', replicaset='atlas-6ds6pq-shard-0', tls=True), 'trabalho_bd2'), 'itens_pedido')"
            ]
          },
          "metadata": {},
          "execution_count": 34
        }
      ]
    },
    {
      "cell_type": "code",
      "source": [
        "db.create_collection(\"avaliacoes\", validator={\n",
        "    \"$jsonSchema\": {\n",
        "        \"bsonType\": \"object\",\n",
        "        \"required\": [\"_id\", \"produto_id\", \"cliente_id\", \"nota\", \"comentario\"],\n",
        "        \"properties\": {\n",
        "            \"_id\": {\n",
        "                \"bsonType\": \"string\",\n",
        "                \"description\": \"ID da avaliação, obrigatório e deve ser uma string\"\n",
        "            },\n",
        "            \"produto_id\": {\n",
        "                \"bsonType\": \"string\",\n",
        "                \"description\": \"Referência ao produto, obrigatório e deve ser uma string\"\n",
        "            },\n",
        "            \"cliente_id\": {\n",
        "                \"bsonType\": \"string\",\n",
        "                \"description\": \"Referência ao cliente, obrigatório e deve ser uma string\"\n",
        "            },\n",
        "            \"nota\": {\n",
        "                \"bsonType\": \"int\",\n",
        "                \"minimum\": 1,\n",
        "                \"maximum\": 5,\n",
        "                \"description\": \"Nota da avaliação, obrigatório e deve ser um número inteiro entre 1 e 5\"\n",
        "            },\n",
        "            \"comentario\": {\n",
        "                \"bsonType\": \"string\",\n",
        "                \"description\": \"Comentário da avaliação, obrigatório e deve ser uma string\"\n",
        "            }\n",
        "        }\n",
        "    }\n",
        "})\n"
      ],
      "metadata": {
        "colab": {
          "base_uri": "https://localhost:8080/"
        },
        "id": "hBj4puJlfXKe",
        "outputId": "b075044e-30e1-40ab-d130-887f431ae937"
      },
      "execution_count": null,
      "outputs": [
        {
          "output_type": "execute_result",
          "data": {
            "text/plain": [
              "Collection(Database(MongoClient(host=['ac-u3recm4-shard-00-02.gnlzt4x.mongodb.net:27017', 'ac-u3recm4-shard-00-00.gnlzt4x.mongodb.net:27017', 'ac-u3recm4-shard-00-01.gnlzt4x.mongodb.net:27017'], document_class=dict, tz_aware=False, connect=True, retrywrites=True, w='majority', appname='ClusterBD2', authsource='admin', replicaset='atlas-6ds6pq-shard-0', tls=True), 'trabalho_bd2'), 'avaliacoes')"
            ]
          },
          "metadata": {},
          "execution_count": 35
        }
      ]
    },
    {
      "cell_type": "code",
      "source": [
        "db.create_collection(\"transportadoras\", validator={\n",
        "    \"$jsonSchema\": {\n",
        "        \"bsonType\": \"object\",\n",
        "        \"required\": [\"_id\", \"nome\", \"prazo_entrega\", \"taxa_frete\"],\n",
        "        \"properties\": {\n",
        "            \"_id\": {\n",
        "                \"bsonType\": \"string\",\n",
        "                \"description\": \"ID da transportadora, obrigatório e deve ser uma string\"\n",
        "            },\n",
        "            \"nome\": {\n",
        "                \"bsonType\": \"string\",\n",
        "                \"description\": \"Nome da transportadora, obrigatório e deve ser uma string\"\n",
        "            },\n",
        "            \"prazo_entrega\": {\n",
        "                \"bsonType\": \"int\",\n",
        "                \"description\": \"Prazo de entrega em dias, obrigatório e deve ser um número inteiro\"\n",
        "            },\n",
        "            \"taxa_frete\": {\n",
        "                \"bsonType\": \"double\",\n",
        "                \"description\": \"Taxa de frete, obrigatório e deve ser um número\"\n",
        "            }\n",
        "        }\n",
        "    }\n",
        "})"
      ],
      "metadata": {
        "colab": {
          "base_uri": "https://localhost:8080/"
        },
        "id": "3HQlB_ZwfeSg",
        "outputId": "9c5a03a0-040f-43d6-8c82-59aa05c6de0d"
      },
      "execution_count": null,
      "outputs": [
        {
          "output_type": "execute_result",
          "data": {
            "text/plain": [
              "Collection(Database(MongoClient(host=['ac-u3recm4-shard-00-02.gnlzt4x.mongodb.net:27017', 'ac-u3recm4-shard-00-00.gnlzt4x.mongodb.net:27017', 'ac-u3recm4-shard-00-01.gnlzt4x.mongodb.net:27017'], document_class=dict, tz_aware=False, connect=True, retrywrites=True, w='majority', appname='ClusterBD2', authsource='admin', replicaset='atlas-6ds6pq-shard-0', tls=True), 'trabalho_bd2'), 'transportadoras')"
            ]
          },
          "metadata": {},
          "execution_count": 36
        }
      ]
    },
    {
      "cell_type": "code",
      "source": [],
      "metadata": {
        "id": "mPKrfucTffzY"
      },
      "execution_count": null,
      "outputs": []
    },
    {
      "cell_type": "code",
      "source": [
        "# Listar todos os bancos de dados no cluster\n",
        "databases = conexao.list_database_names()\n",
        "\n",
        "# Checar se \"trabalho_bd2\" está na lista\n",
        "if \"trabalho_bd2\" in databases:\n",
        "    print(\"Database 'trabalho_bd2' foi criado com sucesso!\")\n",
        "else:\n",
        "    print(\"Database 'trabalho_bd2' não foi criado :/.\")"
      ],
      "metadata": {
        "id": "HP03qC2ecje8",
        "outputId": "4d2d368f-5cdd-4dbc-a310-7012948c8a85",
        "colab": {
          "base_uri": "https://localhost:8080/"
        }
      },
      "execution_count": null,
      "outputs": [
        {
          "output_type": "stream",
          "name": "stdout",
          "text": [
            "Database 'trabalho_bd2' was created successfully!\n"
          ]
        }
      ]
    },
    {
      "cell_type": "code",
      "source": [
        "query = {\n",
        "    \"$or\": [\n",
        "        {\"nome\": \"João\"},\n",
        "        {\"cpf\": \"12345678901\"}\n",
        "    ]\n",
        "}\n",
        "\n",
        "clientes = db.clientes.find(query)\n",
        "for cliente in clientes:\n",
        "    print(cliente)"
      ],
      "metadata": {
        "id": "Zk4zJhzPhU9D"
      },
      "execution_count": null,
      "outputs": []
    }
  ]
}